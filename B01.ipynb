{
 "cells": [
  {
   "cell_type": "markdown",
   "metadata": {},
   "source": [
    "# Торговая сессия B01"
   ]
  },
  {
   "cell_type": "markdown",
   "metadata": {},
   "source": [
    "| |в конце периода 1|в конце периода 2|в конце периода 3|\n",
    "|-|-----------------|-----------------|-----------------|\n",
    "|Cp Bond|20|20|120|\n",
    "|Zero Cp|0|0|100|\n",
    "\n",
    "Процентная ставка: 0.2\n",
    "\n",
    "Для B01 можно рассчитать правильные цены:\n",
    "\n",
    "|Цены|в периоде 1|в периоде 2|в периоде 3|\n",
    "|-|-----------------|-----------------|-----------------|\n",
    "|Zero Cp|57.87|69.4|83.3|\n",
    "|Cp Bond|100|100|100|"
   ]
  },
  {
   "cell_type": "code",
   "execution_count": 1,
   "metadata": {},
   "outputs": [
    {
     "name": "stdout",
     "output_type": "stream",
     "text": [
      "Цена бескупонной облигации в периоде 1: 57.87037037037038\n",
      "Цена бескупонной облигации в периоде 2: 69.44444444444444\n",
      "Цена бескупонной облигации в периоде 3: 83.33333333333334\n"
     ]
    }
   ],
   "source": [
    "r = 0.20\n",
    "print(f'Цена бескупонной облигации в периоде 1:', 100 / (1 + r) ** 3)\n",
    "print(f'Цена бескупонной облигации в периоде 2:', 100 / (1 + r) ** 2)\n",
    "print(f'Цена бескупонной облигации в периоде 3:', 100 / (1 + r) ** 1)"
   ]
  },
  {
   "cell_type": "code",
   "execution_count": 2,
   "metadata": {},
   "outputs": [
    {
     "name": "stdout",
     "output_type": "stream",
     "text": [
      "Цена купонной облигации в периоде 1: 100.00000000000001\n",
      "Цена купонной облигации в периоде 2: 100.00000000000001\n",
      "Цена купонной облигации в периоде 3: 100.0\n"
     ]
    }
   ],
   "source": [
    "print('Цена купонной облигации в периоде 1:', 20 / (1 + r) ** 1 + 20 / (1 + r) ** 2 + 120 / (1 + r) ** 3)\n",
    "print('Цена купонной облигации в периоде 2:', 20 / (1 + r) ** 1 + 120 / (1 + r) ** 2)\n",
    "print('Цена купонной облигации в периоде 3:', 120 / (1 + r) ** 1)"
   ]
  },
  {
   "cell_type": "code",
   "execution_count": 3,
   "metadata": {},
   "outputs": [],
   "source": [
    "import pandas as pd\n",
    "import numpy as np"
   ]
  },
  {
   "cell_type": "code",
   "execution_count": 4,
   "metadata": {},
   "outputs": [],
   "source": [
    "data = pd.read_excel('190913B01-2.xls', sheet_name=3)"
   ]
  },
  {
   "cell_type": "code",
   "execution_count": 5,
   "metadata": {},
   "outputs": [
    {
     "data": {
      "text/html": [
       "<div>\n",
       "<style scoped>\n",
       "    .dataframe tbody tr th:only-of-type {\n",
       "        vertical-align: middle;\n",
       "    }\n",
       "\n",
       "    .dataframe tbody tr th {\n",
       "        vertical-align: top;\n",
       "    }\n",
       "\n",
       "    .dataframe thead th {\n",
       "        text-align: right;\n",
       "    }\n",
       "</style>\n",
       "<table border=\"1\" class=\"dataframe\">\n",
       "  <thead>\n",
       "    <tr style=\"text-align: right;\">\n",
       "      <th></th>\n",
       "      <th>Unnamed: 0</th>\n",
       "      <th>Trial</th>\n",
       "      <th>Period</th>\n",
       "      <th>Time Rem</th>\n",
       "      <th>Security</th>\n",
       "      <th>Action</th>\n",
       "      <th>Trader 1</th>\n",
       "      <th>Trader 2</th>\n",
       "      <th>Price</th>\n",
       "      <th>Quantity</th>\n",
       "      <th>Quote</th>\n",
       "      <th>BestBid</th>\n",
       "      <th>BestAsk</th>\n",
       "      <th>VWAP</th>\n",
       "      <th>Unnamed: 14</th>\n",
       "      <th>0</th>\n",
       "    </tr>\n",
       "  </thead>\n",
       "  <tbody>\n",
       "    <tr>\n",
       "      <th>260</th>\n",
       "      <td>NaN</td>\n",
       "      <td>1</td>\n",
       "      <td>1</td>\n",
       "      <td>-5</td>\n",
       "      <td>0</td>\n",
       "      <td>Interest</td>\n",
       "      <td>0</td>\n",
       "      <td>0</td>\n",
       "      <td>0.2</td>\n",
       "      <td>0</td>\n",
       "      <td>0.0</td>\n",
       "      <td>0.0</td>\n",
       "      <td>0.0</td>\n",
       "      <td>0.0</td>\n",
       "      <td>NaN</td>\n",
       "      <td>0.0</td>\n",
       "    </tr>\n",
       "    <tr>\n",
       "      <th>485</th>\n",
       "      <td>NaN</td>\n",
       "      <td>1</td>\n",
       "      <td>2</td>\n",
       "      <td>-5</td>\n",
       "      <td>0</td>\n",
       "      <td>Interest</td>\n",
       "      <td>0</td>\n",
       "      <td>0</td>\n",
       "      <td>0.2</td>\n",
       "      <td>0</td>\n",
       "      <td>0.0</td>\n",
       "      <td>0.0</td>\n",
       "      <td>0.0</td>\n",
       "      <td>0.0</td>\n",
       "      <td>NaN</td>\n",
       "      <td>0.0</td>\n",
       "    </tr>\n",
       "    <tr>\n",
       "      <th>586</th>\n",
       "      <td>NaN</td>\n",
       "      <td>1</td>\n",
       "      <td>3</td>\n",
       "      <td>-5</td>\n",
       "      <td>0</td>\n",
       "      <td>Interest</td>\n",
       "      <td>0</td>\n",
       "      <td>0</td>\n",
       "      <td>0.2</td>\n",
       "      <td>0</td>\n",
       "      <td>0.0</td>\n",
       "      <td>0.0</td>\n",
       "      <td>0.0</td>\n",
       "      <td>0.0</td>\n",
       "      <td>NaN</td>\n",
       "      <td>0.0</td>\n",
       "    </tr>\n",
       "  </tbody>\n",
       "</table>\n",
       "</div>"
      ],
      "text/plain": [
       "     Unnamed: 0  Trial  Period  Time Rem  Security    Action  Trader 1  \\\n",
       "260         NaN      1       1        -5         0  Interest         0   \n",
       "485         NaN      1       2        -5         0  Interest         0   \n",
       "586         NaN      1       3        -5         0  Interest         0   \n",
       "\n",
       "     Trader 2  Price  Quantity  Quote  BestBid  BestAsk  VWAP  Unnamed: 14  \\\n",
       "260         0    0.2         0    0.0      0.0      0.0   0.0          NaN   \n",
       "485         0    0.2         0    0.0      0.0      0.0   0.0          NaN   \n",
       "586         0    0.2         0    0.0      0.0      0.0   0.0          NaN   \n",
       "\n",
       "       0  \n",
       "260  0.0  \n",
       "485  0.0  \n",
       "586  0.0  "
      ]
     },
     "execution_count": 5,
     "metadata": {},
     "output_type": "execute_result"
    }
   ],
   "source": [
    "data[data['Action'] == 'Interest']"
   ]
  },
  {
   "cell_type": "markdown",
   "metadata": {},
   "source": [
    "### TradeData"
   ]
  },
  {
   "cell_type": "code",
   "execution_count": 8,
   "metadata": {
    "scrolled": true
   },
   "outputs": [
    {
     "data": {
      "text/html": [
       "<div>\n",
       "<style scoped>\n",
       "    .dataframe tbody tr th:only-of-type {\n",
       "        vertical-align: middle;\n",
       "    }\n",
       "\n",
       "    .dataframe tbody tr th {\n",
       "        vertical-align: top;\n",
       "    }\n",
       "\n",
       "    .dataframe thead th {\n",
       "        text-align: right;\n",
       "    }\n",
       "</style>\n",
       "<table border=\"1\" class=\"dataframe\">\n",
       "  <thead>\n",
       "    <tr style=\"text-align: right;\">\n",
       "      <th></th>\n",
       "      <th>Unnamed: 0</th>\n",
       "      <th>Trial</th>\n",
       "      <th>Period</th>\n",
       "      <th>Time Rem</th>\n",
       "      <th>Security</th>\n",
       "      <th>Action</th>\n",
       "      <th>Trader 1</th>\n",
       "      <th>Trader 2</th>\n",
       "      <th>Price</th>\n",
       "      <th>Quantity</th>\n",
       "      <th>Quote</th>\n",
       "      <th>BestBid</th>\n",
       "      <th>BestAsk</th>\n",
       "      <th>VWAP</th>\n",
       "      <th>Unnamed: 14</th>\n",
       "      <th>0</th>\n",
       "    </tr>\n",
       "  </thead>\n",
       "  <tbody>\n",
       "    <tr>\n",
       "      <th>0</th>\n",
       "      <td>NaN</td>\n",
       "      <td>1</td>\n",
       "      <td>1</td>\n",
       "      <td>177</td>\n",
       "      <td>1</td>\n",
       "      <td>Bid</td>\n",
       "      <td>11</td>\n",
       "      <td>0</td>\n",
       "      <td>98.0</td>\n",
       "      <td>400</td>\n",
       "      <td>98.0</td>\n",
       "      <td>0.0</td>\n",
       "      <td>0.0</td>\n",
       "      <td>0.0</td>\n",
       "      <td>24.0</td>\n",
       "      <td>NaN</td>\n",
       "    </tr>\n",
       "    <tr>\n",
       "      <th>1</th>\n",
       "      <td>NaN</td>\n",
       "      <td>1</td>\n",
       "      <td>1</td>\n",
       "      <td>177</td>\n",
       "      <td>2</td>\n",
       "      <td>Ask</td>\n",
       "      <td>12</td>\n",
       "      <td>0</td>\n",
       "      <td>60.0</td>\n",
       "      <td>100</td>\n",
       "      <td>60.0</td>\n",
       "      <td>0.0</td>\n",
       "      <td>0.0</td>\n",
       "      <td>0.0</td>\n",
       "      <td>22.0</td>\n",
       "      <td>NaN</td>\n",
       "    </tr>\n",
       "    <tr>\n",
       "      <th>2</th>\n",
       "      <td>NaN</td>\n",
       "      <td>1</td>\n",
       "      <td>1</td>\n",
       "      <td>174</td>\n",
       "      <td>1</td>\n",
       "      <td>Ask</td>\n",
       "      <td>11</td>\n",
       "      <td>0</td>\n",
       "      <td>102.0</td>\n",
       "      <td>400</td>\n",
       "      <td>102.0</td>\n",
       "      <td>98.0</td>\n",
       "      <td>0.0</td>\n",
       "      <td>0.0</td>\n",
       "      <td>14.0</td>\n",
       "      <td>NaN</td>\n",
       "    </tr>\n",
       "    <tr>\n",
       "      <th>3</th>\n",
       "      <td>NaN</td>\n",
       "      <td>1</td>\n",
       "      <td>1</td>\n",
       "      <td>172</td>\n",
       "      <td>2</td>\n",
       "      <td>Ask</td>\n",
       "      <td>12</td>\n",
       "      <td>0</td>\n",
       "      <td>60.0</td>\n",
       "      <td>100</td>\n",
       "      <td>60.0</td>\n",
       "      <td>0.0</td>\n",
       "      <td>60.0</td>\n",
       "      <td>0.0</td>\n",
       "      <td>1.0</td>\n",
       "      <td>NaN</td>\n",
       "    </tr>\n",
       "    <tr>\n",
       "      <th>4</th>\n",
       "      <td>NaN</td>\n",
       "      <td>1</td>\n",
       "      <td>1</td>\n",
       "      <td>171</td>\n",
       "      <td>2</td>\n",
       "      <td>Bid</td>\n",
       "      <td>3</td>\n",
       "      <td>0</td>\n",
       "      <td>57.8</td>\n",
       "      <td>1000</td>\n",
       "      <td>57.8</td>\n",
       "      <td>0.0</td>\n",
       "      <td>60.0</td>\n",
       "      <td>0.0</td>\n",
       "      <td>21.0</td>\n",
       "      <td>NaN</td>\n",
       "    </tr>\n",
       "  </tbody>\n",
       "</table>\n",
       "</div>"
      ],
      "text/plain": [
       "   Unnamed: 0  Trial  Period  Time Rem  Security Action  Trader 1  Trader 2  \\\n",
       "0         NaN      1       1       177         1    Bid        11         0   \n",
       "1         NaN      1       1       177         2    Ask        12         0   \n",
       "2         NaN      1       1       174         1    Ask        11         0   \n",
       "3         NaN      1       1       172         2    Ask        12         0   \n",
       "4         NaN      1       1       171         2    Bid         3         0   \n",
       "\n",
       "   Price  Quantity  Quote  BestBid  BestAsk  VWAP  Unnamed: 14   0  \n",
       "0   98.0       400   98.0      0.0      0.0   0.0         24.0 NaN  \n",
       "1   60.0       100   60.0      0.0      0.0   0.0         22.0 NaN  \n",
       "2  102.0       400  102.0     98.0      0.0   0.0         14.0 NaN  \n",
       "3   60.0       100   60.0      0.0     60.0   0.0          1.0 NaN  \n",
       "4   57.8      1000   57.8      0.0     60.0   0.0         21.0 NaN  "
      ]
     },
     "execution_count": 8,
     "metadata": {},
     "output_type": "execute_result"
    }
   ],
   "source": [
    "data.head()"
   ]
  },
  {
   "cell_type": "markdown",
   "metadata": {},
   "source": [
    "### GradeGash"
   ]
  },
  {
   "cell_type": "code",
   "execution_count": 7,
   "metadata": {},
   "outputs": [
    {
     "data": {
      "text/html": [
       "<div>\n",
       "<style scoped>\n",
       "    .dataframe tbody tr th:only-of-type {\n",
       "        vertical-align: middle;\n",
       "    }\n",
       "\n",
       "    .dataframe tbody tr th {\n",
       "        vertical-align: top;\n",
       "    }\n",
       "\n",
       "    .dataframe thead th {\n",
       "        text-align: right;\n",
       "    }\n",
       "</style>\n",
       "<table border=\"1\" class=\"dataframe\">\n",
       "  <thead>\n",
       "    <tr style=\"text-align: right;\">\n",
       "      <th></th>\n",
       "      <th>Unnamed: 0</th>\n",
       "      <th>Trading Name</th>\n",
       "      <th>ОЧКИ</th>\n",
       "      <th>Real Name 1</th>\n",
       "      <th>Real Name 2</th>\n",
       "      <th>Real Name 3</th>\n",
       "      <th>CumGCash 1</th>\n",
       "      <th>Unnamed: 7</th>\n",
       "      <th>Unnamed: 8</th>\n",
       "      <th>Unnamed: 9</th>\n",
       "      <th>...</th>\n",
       "      <th>Unnamed: 22</th>\n",
       "      <th>Rank 1</th>\n",
       "      <th>Unnamed: 24</th>\n",
       "      <th>Unnamed: 25</th>\n",
       "      <th>Unnamed: 26</th>\n",
       "      <th>Unnamed: 27</th>\n",
       "      <th>Unnamed: 28</th>\n",
       "      <th>Unnamed: 29</th>\n",
       "      <th>Unnamed: 30</th>\n",
       "      <th>CumRank 1</th>\n",
       "    </tr>\n",
       "  </thead>\n",
       "  <tbody>\n",
       "    <tr>\n",
       "      <th>0</th>\n",
       "      <td>Trader1</td>\n",
       "      <td>24.0</td>\n",
       "      <td>115.930692</td>\n",
       "      <td>Саттаров</td>\n",
       "      <td>NaN</td>\n",
       "      <td>NaN</td>\n",
       "      <td>4.958433</td>\n",
       "      <td>NaN</td>\n",
       "      <td>NaN</td>\n",
       "      <td>NaN</td>\n",
       "      <td>...</td>\n",
       "      <td>NaN</td>\n",
       "      <td>2.0</td>\n",
       "      <td>NaN</td>\n",
       "      <td>NaN</td>\n",
       "      <td>NaN</td>\n",
       "      <td>NaN</td>\n",
       "      <td>NaN</td>\n",
       "      <td>NaN</td>\n",
       "      <td>NaN</td>\n",
       "      <td>2.0</td>\n",
       "    </tr>\n",
       "    <tr>\n",
       "      <th>1</th>\n",
       "      <td>Trader2</td>\n",
       "      <td>22.0</td>\n",
       "      <td>97.978638</td>\n",
       "      <td>Игнатьев</td>\n",
       "      <td>NaN</td>\n",
       "      <td>NaN</td>\n",
       "      <td>4.190612</td>\n",
       "      <td>NaN</td>\n",
       "      <td>NaN</td>\n",
       "      <td>NaN</td>\n",
       "      <td>...</td>\n",
       "      <td>NaN</td>\n",
       "      <td>12.0</td>\n",
       "      <td>NaN</td>\n",
       "      <td>NaN</td>\n",
       "      <td>NaN</td>\n",
       "      <td>NaN</td>\n",
       "      <td>NaN</td>\n",
       "      <td>NaN</td>\n",
       "      <td>NaN</td>\n",
       "      <td>12.0</td>\n",
       "    </tr>\n",
       "    <tr>\n",
       "      <th>2</th>\n",
       "      <td>Trader3</td>\n",
       "      <td>14.0</td>\n",
       "      <td>101.037606</td>\n",
       "      <td>Наседкин</td>\n",
       "      <td>NaN</td>\n",
       "      <td>NaN</td>\n",
       "      <td>4.321446</td>\n",
       "      <td>NaN</td>\n",
       "      <td>NaN</td>\n",
       "      <td>NaN</td>\n",
       "      <td>...</td>\n",
       "      <td>NaN</td>\n",
       "      <td>6.0</td>\n",
       "      <td>NaN</td>\n",
       "      <td>NaN</td>\n",
       "      <td>NaN</td>\n",
       "      <td>NaN</td>\n",
       "      <td>NaN</td>\n",
       "      <td>NaN</td>\n",
       "      <td>NaN</td>\n",
       "      <td>6.0</td>\n",
       "    </tr>\n",
       "    <tr>\n",
       "      <th>3</th>\n",
       "      <td>Trader4</td>\n",
       "      <td>1.0</td>\n",
       "      <td>98.852964</td>\n",
       "      <td>Айтыгулов</td>\n",
       "      <td>NaN</td>\n",
       "      <td>NaN</td>\n",
       "      <td>4.228007</td>\n",
       "      <td>NaN</td>\n",
       "      <td>NaN</td>\n",
       "      <td>NaN</td>\n",
       "      <td>...</td>\n",
       "      <td>NaN</td>\n",
       "      <td>10.0</td>\n",
       "      <td>NaN</td>\n",
       "      <td>NaN</td>\n",
       "      <td>NaN</td>\n",
       "      <td>NaN</td>\n",
       "      <td>NaN</td>\n",
       "      <td>NaN</td>\n",
       "      <td>NaN</td>\n",
       "      <td>10.0</td>\n",
       "    </tr>\n",
       "    <tr>\n",
       "      <th>4</th>\n",
       "      <td>Trader5</td>\n",
       "      <td>21.0</td>\n",
       "      <td>100.967046</td>\n",
       "      <td>Штыхлина</td>\n",
       "      <td>NaN</td>\n",
       "      <td>NaN</td>\n",
       "      <td>4.318428</td>\n",
       "      <td>NaN</td>\n",
       "      <td>NaN</td>\n",
       "      <td>NaN</td>\n",
       "      <td>...</td>\n",
       "      <td>NaN</td>\n",
       "      <td>8.0</td>\n",
       "      <td>NaN</td>\n",
       "      <td>NaN</td>\n",
       "      <td>NaN</td>\n",
       "      <td>NaN</td>\n",
       "      <td>NaN</td>\n",
       "      <td>NaN</td>\n",
       "      <td>NaN</td>\n",
       "      <td>8.0</td>\n",
       "    </tr>\n",
       "    <tr>\n",
       "      <th>5</th>\n",
       "      <td>Trader6</td>\n",
       "      <td>2.0</td>\n",
       "      <td>98.842651</td>\n",
       "      <td>Гайворонский</td>\n",
       "      <td>NaN</td>\n",
       "      <td>NaN</td>\n",
       "      <td>4.227566</td>\n",
       "      <td>NaN</td>\n",
       "      <td>NaN</td>\n",
       "      <td>NaN</td>\n",
       "      <td>...</td>\n",
       "      <td>NaN</td>\n",
       "      <td>11.0</td>\n",
       "      <td>NaN</td>\n",
       "      <td>NaN</td>\n",
       "      <td>NaN</td>\n",
       "      <td>NaN</td>\n",
       "      <td>NaN</td>\n",
       "      <td>NaN</td>\n",
       "      <td>NaN</td>\n",
       "      <td>11.0</td>\n",
       "    </tr>\n",
       "    <tr>\n",
       "      <th>6</th>\n",
       "      <td>Trader7</td>\n",
       "      <td>18.0</td>\n",
       "      <td>101.003803</td>\n",
       "      <td>Терентьева Мария</td>\n",
       "      <td>NaN</td>\n",
       "      <td>NaN</td>\n",
       "      <td>4.320000</td>\n",
       "      <td>NaN</td>\n",
       "      <td>NaN</td>\n",
       "      <td>NaN</td>\n",
       "      <td>...</td>\n",
       "      <td>NaN</td>\n",
       "      <td>7.0</td>\n",
       "      <td>NaN</td>\n",
       "      <td>NaN</td>\n",
       "      <td>NaN</td>\n",
       "      <td>NaN</td>\n",
       "      <td>NaN</td>\n",
       "      <td>NaN</td>\n",
       "      <td>NaN</td>\n",
       "      <td>7.0</td>\n",
       "    </tr>\n",
       "    <tr>\n",
       "      <th>7</th>\n",
       "      <td>Trader8</td>\n",
       "      <td>17.0</td>\n",
       "      <td>29.581589</td>\n",
       "      <td>Терентьева Александра</td>\n",
       "      <td>NaN</td>\n",
       "      <td>NaN</td>\n",
       "      <td>1.265224</td>\n",
       "      <td>NaN</td>\n",
       "      <td>NaN</td>\n",
       "      <td>NaN</td>\n",
       "      <td>...</td>\n",
       "      <td>NaN</td>\n",
       "      <td>15.0</td>\n",
       "      <td>NaN</td>\n",
       "      <td>NaN</td>\n",
       "      <td>NaN</td>\n",
       "      <td>NaN</td>\n",
       "      <td>NaN</td>\n",
       "      <td>NaN</td>\n",
       "      <td>NaN</td>\n",
       "      <td>15.0</td>\n",
       "    </tr>\n",
       "    <tr>\n",
       "      <th>8</th>\n",
       "      <td>Trader9</td>\n",
       "      <td>4.0</td>\n",
       "      <td>96.944218</td>\n",
       "      <td>Горшко</td>\n",
       "      <td>NaN</td>\n",
       "      <td>NaN</td>\n",
       "      <td>4.146369</td>\n",
       "      <td>NaN</td>\n",
       "      <td>NaN</td>\n",
       "      <td>NaN</td>\n",
       "      <td>...</td>\n",
       "      <td>NaN</td>\n",
       "      <td>13.0</td>\n",
       "      <td>NaN</td>\n",
       "      <td>NaN</td>\n",
       "      <td>NaN</td>\n",
       "      <td>NaN</td>\n",
       "      <td>NaN</td>\n",
       "      <td>NaN</td>\n",
       "      <td>NaN</td>\n",
       "      <td>13.0</td>\n",
       "    </tr>\n",
       "    <tr>\n",
       "      <th>9</th>\n",
       "      <td>Trader10</td>\n",
       "      <td>3.0</td>\n",
       "      <td>168.239657</td>\n",
       "      <td>Галингер Александр</td>\n",
       "      <td>NaN</td>\n",
       "      <td>NaN</td>\n",
       "      <td>7.195723</td>\n",
       "      <td>NaN</td>\n",
       "      <td>NaN</td>\n",
       "      <td>NaN</td>\n",
       "      <td>...</td>\n",
       "      <td>NaN</td>\n",
       "      <td>1.0</td>\n",
       "      <td>NaN</td>\n",
       "      <td>NaN</td>\n",
       "      <td>NaN</td>\n",
       "      <td>NaN</td>\n",
       "      <td>NaN</td>\n",
       "      <td>NaN</td>\n",
       "      <td>NaN</td>\n",
       "      <td>1.0</td>\n",
       "    </tr>\n",
       "    <tr>\n",
       "      <th>10</th>\n",
       "      <td>Trader11</td>\n",
       "      <td>7.0</td>\n",
       "      <td>102.863885</td>\n",
       "      <td>Елсуков</td>\n",
       "      <td>NaN</td>\n",
       "      <td>NaN</td>\n",
       "      <td>4.399557</td>\n",
       "      <td>NaN</td>\n",
       "      <td>NaN</td>\n",
       "      <td>NaN</td>\n",
       "      <td>...</td>\n",
       "      <td>NaN</td>\n",
       "      <td>4.0</td>\n",
       "      <td>NaN</td>\n",
       "      <td>NaN</td>\n",
       "      <td>NaN</td>\n",
       "      <td>NaN</td>\n",
       "      <td>NaN</td>\n",
       "      <td>NaN</td>\n",
       "      <td>NaN</td>\n",
       "      <td>4.0</td>\n",
       "    </tr>\n",
       "    <tr>\n",
       "      <th>11</th>\n",
       "      <td>Trader12</td>\n",
       "      <td>13.0</td>\n",
       "      <td>104.367900</td>\n",
       "      <td>Мустафин</td>\n",
       "      <td>NaN</td>\n",
       "      <td>NaN</td>\n",
       "      <td>4.463885</td>\n",
       "      <td>NaN</td>\n",
       "      <td>NaN</td>\n",
       "      <td>NaN</td>\n",
       "      <td>...</td>\n",
       "      <td>NaN</td>\n",
       "      <td>3.0</td>\n",
       "      <td>NaN</td>\n",
       "      <td>NaN</td>\n",
       "      <td>NaN</td>\n",
       "      <td>NaN</td>\n",
       "      <td>NaN</td>\n",
       "      <td>NaN</td>\n",
       "      <td>NaN</td>\n",
       "      <td>3.0</td>\n",
       "    </tr>\n",
       "    <tr>\n",
       "      <th>12</th>\n",
       "      <td>Trader13</td>\n",
       "      <td>11.0</td>\n",
       "      <td>101.405469</td>\n",
       "      <td>Колчинский</td>\n",
       "      <td>NaN</td>\n",
       "      <td>NaN</td>\n",
       "      <td>4.337180</td>\n",
       "      <td>NaN</td>\n",
       "      <td>NaN</td>\n",
       "      <td>NaN</td>\n",
       "      <td>...</td>\n",
       "      <td>NaN</td>\n",
       "      <td>5.0</td>\n",
       "      <td>NaN</td>\n",
       "      <td>NaN</td>\n",
       "      <td>NaN</td>\n",
       "      <td>NaN</td>\n",
       "      <td>NaN</td>\n",
       "      <td>NaN</td>\n",
       "      <td>NaN</td>\n",
       "      <td>5.0</td>\n",
       "    </tr>\n",
       "    <tr>\n",
       "      <th>13</th>\n",
       "      <td>Trader14</td>\n",
       "      <td>15.0</td>\n",
       "      <td>98.956234</td>\n",
       "      <td>Осипкина</td>\n",
       "      <td>NaN</td>\n",
       "      <td>NaN</td>\n",
       "      <td>4.232424</td>\n",
       "      <td>NaN</td>\n",
       "      <td>NaN</td>\n",
       "      <td>NaN</td>\n",
       "      <td>...</td>\n",
       "      <td>NaN</td>\n",
       "      <td>9.0</td>\n",
       "      <td>NaN</td>\n",
       "      <td>NaN</td>\n",
       "      <td>NaN</td>\n",
       "      <td>NaN</td>\n",
       "      <td>NaN</td>\n",
       "      <td>NaN</td>\n",
       "      <td>NaN</td>\n",
       "      <td>9.0</td>\n",
       "    </tr>\n",
       "    <tr>\n",
       "      <th>14</th>\n",
       "      <td>Trader15</td>\n",
       "      <td>19.0</td>\n",
       "      <td>83.027647</td>\n",
       "      <td>Устинова</td>\n",
       "      <td>NaN</td>\n",
       "      <td>NaN</td>\n",
       "      <td>3.551148</td>\n",
       "      <td>NaN</td>\n",
       "      <td>NaN</td>\n",
       "      <td>NaN</td>\n",
       "      <td>...</td>\n",
       "      <td>NaN</td>\n",
       "      <td>14.0</td>\n",
       "      <td>NaN</td>\n",
       "      <td>NaN</td>\n",
       "      <td>NaN</td>\n",
       "      <td>NaN</td>\n",
       "      <td>NaN</td>\n",
       "      <td>NaN</td>\n",
       "      <td>NaN</td>\n",
       "      <td>14.0</td>\n",
       "    </tr>\n",
       "    <tr>\n",
       "      <th>15</th>\n",
       "      <td>Trader16</td>\n",
       "      <td>NaN</td>\n",
       "      <td>NaN</td>\n",
       "      <td>NaN</td>\n",
       "      <td>NaN</td>\n",
       "      <td>NaN</td>\n",
       "      <td>4.277067</td>\n",
       "      <td>NaN</td>\n",
       "      <td>NaN</td>\n",
       "      <td>NaN</td>\n",
       "      <td>...</td>\n",
       "      <td>NaN</td>\n",
       "      <td>NaN</td>\n",
       "      <td>NaN</td>\n",
       "      <td>NaN</td>\n",
       "      <td>NaN</td>\n",
       "      <td>NaN</td>\n",
       "      <td>NaN</td>\n",
       "      <td>NaN</td>\n",
       "      <td>NaN</td>\n",
       "      <td>NaN</td>\n",
       "    </tr>\n",
       "    <tr>\n",
       "      <th>16</th>\n",
       "      <td>Trader17</td>\n",
       "      <td>NaN</td>\n",
       "      <td>NaN</td>\n",
       "      <td>NaN</td>\n",
       "      <td>NaN</td>\n",
       "      <td>NaN</td>\n",
       "      <td>NaN</td>\n",
       "      <td>NaN</td>\n",
       "      <td>NaN</td>\n",
       "      <td>NaN</td>\n",
       "      <td>...</td>\n",
       "      <td>NaN</td>\n",
       "      <td>NaN</td>\n",
       "      <td>NaN</td>\n",
       "      <td>NaN</td>\n",
       "      <td>NaN</td>\n",
       "      <td>NaN</td>\n",
       "      <td>NaN</td>\n",
       "      <td>NaN</td>\n",
       "      <td>NaN</td>\n",
       "      <td>NaN</td>\n",
       "    </tr>\n",
       "    <tr>\n",
       "      <th>17</th>\n",
       "      <td>Trader18</td>\n",
       "      <td>NaN</td>\n",
       "      <td>NaN</td>\n",
       "      <td>NaN</td>\n",
       "      <td>NaN</td>\n",
       "      <td>NaN</td>\n",
       "      <td>NaN</td>\n",
       "      <td>NaN</td>\n",
       "      <td>NaN</td>\n",
       "      <td>NaN</td>\n",
       "      <td>...</td>\n",
       "      <td>NaN</td>\n",
       "      <td>NaN</td>\n",
       "      <td>NaN</td>\n",
       "      <td>NaN</td>\n",
       "      <td>NaN</td>\n",
       "      <td>NaN</td>\n",
       "      <td>NaN</td>\n",
       "      <td>NaN</td>\n",
       "      <td>NaN</td>\n",
       "      <td>NaN</td>\n",
       "    </tr>\n",
       "    <tr>\n",
       "      <th>18</th>\n",
       "      <td>Trader19</td>\n",
       "      <td>NaN</td>\n",
       "      <td>NaN</td>\n",
       "      <td>NaN</td>\n",
       "      <td>NaN</td>\n",
       "      <td>NaN</td>\n",
       "      <td>NaN</td>\n",
       "      <td>NaN</td>\n",
       "      <td>NaN</td>\n",
       "      <td>NaN</td>\n",
       "      <td>...</td>\n",
       "      <td>NaN</td>\n",
       "      <td>NaN</td>\n",
       "      <td>NaN</td>\n",
       "      <td>NaN</td>\n",
       "      <td>NaN</td>\n",
       "      <td>NaN</td>\n",
       "      <td>NaN</td>\n",
       "      <td>NaN</td>\n",
       "      <td>NaN</td>\n",
       "      <td>NaN</td>\n",
       "    </tr>\n",
       "    <tr>\n",
       "      <th>19</th>\n",
       "      <td>Trader20</td>\n",
       "      <td>NaN</td>\n",
       "      <td>NaN</td>\n",
       "      <td>NaN</td>\n",
       "      <td>NaN</td>\n",
       "      <td>NaN</td>\n",
       "      <td>NaN</td>\n",
       "      <td>NaN</td>\n",
       "      <td>NaN</td>\n",
       "      <td>NaN</td>\n",
       "      <td>...</td>\n",
       "      <td>NaN</td>\n",
       "      <td>NaN</td>\n",
       "      <td>NaN</td>\n",
       "      <td>NaN</td>\n",
       "      <td>NaN</td>\n",
       "      <td>NaN</td>\n",
       "      <td>NaN</td>\n",
       "      <td>NaN</td>\n",
       "      <td>NaN</td>\n",
       "      <td>NaN</td>\n",
       "    </tr>\n",
       "  </tbody>\n",
       "</table>\n",
       "<p>20 rows × 32 columns</p>\n",
       "</div>"
      ],
      "text/plain": [
       "   Unnamed: 0  Trading Name        ОЧКИ            Real Name 1  Real Name 2  \\\n",
       "0     Trader1          24.0  115.930692               Саттаров          NaN   \n",
       "1     Trader2          22.0   97.978638               Игнатьев          NaN   \n",
       "2     Trader3          14.0  101.037606               Наседкин          NaN   \n",
       "3     Trader4           1.0   98.852964              Айтыгулов          NaN   \n",
       "4     Trader5          21.0  100.967046               Штыхлина          NaN   \n",
       "5     Trader6           2.0   98.842651           Гайворонский          NaN   \n",
       "6     Trader7          18.0  101.003803       Терентьева Мария          NaN   \n",
       "7     Trader8          17.0   29.581589  Терентьева Александра          NaN   \n",
       "8     Trader9           4.0   96.944218                 Горшко          NaN   \n",
       "9    Trader10           3.0  168.239657     Галингер Александр          NaN   \n",
       "10   Trader11           7.0  102.863885                Елсуков          NaN   \n",
       "11   Trader12          13.0  104.367900               Мустафин          NaN   \n",
       "12   Trader13          11.0  101.405469             Колчинский          NaN   \n",
       "13   Trader14          15.0   98.956234               Осипкина          NaN   \n",
       "14   Trader15          19.0   83.027647               Устинова          NaN   \n",
       "15   Trader16           NaN         NaN                    NaN          NaN   \n",
       "16   Trader17           NaN         NaN                    NaN          NaN   \n",
       "17   Trader18           NaN         NaN                    NaN          NaN   \n",
       "18   Trader19           NaN         NaN                    NaN          NaN   \n",
       "19   Trader20           NaN         NaN                    NaN          NaN   \n",
       "\n",
       "    Real Name 3  CumGCash 1  Unnamed: 7  Unnamed: 8  Unnamed: 9  ...  \\\n",
       "0           NaN    4.958433         NaN         NaN         NaN  ...   \n",
       "1           NaN    4.190612         NaN         NaN         NaN  ...   \n",
       "2           NaN    4.321446         NaN         NaN         NaN  ...   \n",
       "3           NaN    4.228007         NaN         NaN         NaN  ...   \n",
       "4           NaN    4.318428         NaN         NaN         NaN  ...   \n",
       "5           NaN    4.227566         NaN         NaN         NaN  ...   \n",
       "6           NaN    4.320000         NaN         NaN         NaN  ...   \n",
       "7           NaN    1.265224         NaN         NaN         NaN  ...   \n",
       "8           NaN    4.146369         NaN         NaN         NaN  ...   \n",
       "9           NaN    7.195723         NaN         NaN         NaN  ...   \n",
       "10          NaN    4.399557         NaN         NaN         NaN  ...   \n",
       "11          NaN    4.463885         NaN         NaN         NaN  ...   \n",
       "12          NaN    4.337180         NaN         NaN         NaN  ...   \n",
       "13          NaN    4.232424         NaN         NaN         NaN  ...   \n",
       "14          NaN    3.551148         NaN         NaN         NaN  ...   \n",
       "15          NaN    4.277067         NaN         NaN         NaN  ...   \n",
       "16          NaN         NaN         NaN         NaN         NaN  ...   \n",
       "17          NaN         NaN         NaN         NaN         NaN  ...   \n",
       "18          NaN         NaN         NaN         NaN         NaN  ...   \n",
       "19          NaN         NaN         NaN         NaN         NaN  ...   \n",
       "\n",
       "    Unnamed: 22  Rank 1  Unnamed: 24  Unnamed: 25  Unnamed: 26  Unnamed: 27  \\\n",
       "0           NaN     2.0          NaN          NaN          NaN          NaN   \n",
       "1           NaN    12.0          NaN          NaN          NaN          NaN   \n",
       "2           NaN     6.0          NaN          NaN          NaN          NaN   \n",
       "3           NaN    10.0          NaN          NaN          NaN          NaN   \n",
       "4           NaN     8.0          NaN          NaN          NaN          NaN   \n",
       "5           NaN    11.0          NaN          NaN          NaN          NaN   \n",
       "6           NaN     7.0          NaN          NaN          NaN          NaN   \n",
       "7           NaN    15.0          NaN          NaN          NaN          NaN   \n",
       "8           NaN    13.0          NaN          NaN          NaN          NaN   \n",
       "9           NaN     1.0          NaN          NaN          NaN          NaN   \n",
       "10          NaN     4.0          NaN          NaN          NaN          NaN   \n",
       "11          NaN     3.0          NaN          NaN          NaN          NaN   \n",
       "12          NaN     5.0          NaN          NaN          NaN          NaN   \n",
       "13          NaN     9.0          NaN          NaN          NaN          NaN   \n",
       "14          NaN    14.0          NaN          NaN          NaN          NaN   \n",
       "15          NaN     NaN          NaN          NaN          NaN          NaN   \n",
       "16          NaN     NaN          NaN          NaN          NaN          NaN   \n",
       "17          NaN     NaN          NaN          NaN          NaN          NaN   \n",
       "18          NaN     NaN          NaN          NaN          NaN          NaN   \n",
       "19          NaN     NaN          NaN          NaN          NaN          NaN   \n",
       "\n",
       "    Unnamed: 28  Unnamed: 29  Unnamed: 30  CumRank 1  \n",
       "0           NaN          NaN          NaN        2.0  \n",
       "1           NaN          NaN          NaN       12.0  \n",
       "2           NaN          NaN          NaN        6.0  \n",
       "3           NaN          NaN          NaN       10.0  \n",
       "4           NaN          NaN          NaN        8.0  \n",
       "5           NaN          NaN          NaN       11.0  \n",
       "6           NaN          NaN          NaN        7.0  \n",
       "7           NaN          NaN          NaN       15.0  \n",
       "8           NaN          NaN          NaN       13.0  \n",
       "9           NaN          NaN          NaN        1.0  \n",
       "10          NaN          NaN          NaN        4.0  \n",
       "11          NaN          NaN          NaN        3.0  \n",
       "12          NaN          NaN          NaN        5.0  \n",
       "13          NaN          NaN          NaN        9.0  \n",
       "14          NaN          NaN          NaN       14.0  \n",
       "15          NaN          NaN          NaN        NaN  \n",
       "16          NaN          NaN          NaN        NaN  \n",
       "17          NaN          NaN          NaN        NaN  \n",
       "18          NaN          NaN          NaN        NaN  \n",
       "19          NaN          NaN          NaN        NaN  \n",
       "\n",
       "[20 rows x 32 columns]"
      ]
     },
     "execution_count": 7,
     "metadata": {},
     "output_type": "execute_result"
    }
   ],
   "source": [
    "pd.read_excel('190913B01-2.xls', sheet_name=4)"
   ]
  },
  {
   "cell_type": "markdown",
   "metadata": {},
   "source": [
    "**Найдем число ошибочных торговых действий в каждом периоде:**"
   ]
  },
  {
   "cell_type": "code",
   "execution_count": 9,
   "metadata": {},
   "outputs": [
    {
     "name": "stdout",
     "output_type": "stream",
     "text": [
      "Период 1\n",
      "Процент правильных Bid для бескупонных облигаций: 0.16 \tколичество заявок: 50\n",
      "Процент правильных Bid для купонных облигаций: 1.0 \tколичество заявок: 34\n",
      "Процент правильных Buy для бескупонных облигаций: 0.0 \tколичество заявок: 40\n",
      "Процент правильных Buy для купонных облигаций: nan \tколичество заявок: 0\n",
      "Процент правильных Ask для бескупонных облигаций: 0.61 \tколичество заявок: 59\n",
      "Процент правильных Ask для купонных облигаций: 1.0 \tколичество заявок: 16\n",
      "Процент правильных Sell для бескупонных облигаций: 1.0 \tколичество заявок: 27\n",
      "Процент правильных Sell для купонных облигаций: nan \tколичество заявок: 0\n",
      "\n",
      "\n",
      "Период 2\n",
      "Процент правильных Bid для бескупонных облигаций: 0.34 \tколичество заявок: 96\n",
      "Процент правильных Bid для купонных облигаций: 1.0 \tколичество заявок: 16\n",
      "Процент правильных Buy для бескупонных облигаций: 0.06 \tколичество заявок: 18\n",
      "Процент правильных Buy для купонных облигаций: 0.4 \tколичество заявок: 5\n",
      "Процент правильных Ask для бескупонных облигаций: 0.8 \tколичество заявок: 25\n",
      "Процент правильных Ask для купонных облигаций: 1.0 \tколичество заявок: 10\n",
      "Процент правильных Sell для бескупонных облигаций: 0.94 \tколичество заявок: 18\n",
      "Процент правильных Sell для купонных облигаций: 1.0 \tколичество заявок: 10\n",
      "\n",
      "\n",
      "Период 3\n",
      "Процент правильных Bid для бескупонных облигаций: 0.15 \tколичество заявок: 27\n",
      "Процент правильных Bid для купонных облигаций: 1.0 \tколичество заявок: 4\n",
      "Процент правильных Buy для бескупонных облигаций: 0.0 \tколичество заявок: 8\n",
      "Процент правильных Buy для купонных облигаций: 0.0 \tколичество заявок: 2\n",
      "Процент правильных Ask для бескупонных облигаций: 1.0 \tколичество заявок: 17\n",
      "Процент правильных Ask для купонных облигаций: 1.0 \tколичество заявок: 22\n",
      "Процент правильных Sell для бескупонных облигаций: 1.0 \tколичество заявок: 11\n",
      "Процент правильных Sell для купонных облигаций: 1.0 \tколичество заявок: 2\n",
      "\n",
      "\n"
     ]
    },
    {
     "name": "stderr",
     "output_type": "stream",
     "text": [
      "/Users/daryapolyudova/anaconda3/lib/python3.7/site-packages/ipykernel_launcher.py:15: RuntimeWarning: invalid value encountered in long_scalars\n",
      "  from ipykernel import kernelapp as app\n",
      "/Users/daryapolyudova/anaconda3/lib/python3.7/site-packages/ipykernel_launcher.py:26: RuntimeWarning: invalid value encountered in long_scalars\n"
     ]
    }
   ],
   "source": [
    "zero_cp = [57.87, 69.4, 83.3]\n",
    "cp_bound = 100\n",
    "\n",
    "for period in range(3):\n",
    "    print(f'Период {period + 1}')\n",
    "    \n",
    "    # --- Bid, Buy\n",
    "    for action in ['Bid', 'Buy']:\n",
    "        tmp_data = data[(data['Period'] == period + 1) & (data['Action'] == action) & (data['Security'] == 2)]\n",
    "        print(f'Процент правильных {action} для бескупонных облигаций:', \n",
    "              round(np.sum(tmp_data['Price'] <= zero_cp[period]) / len(tmp_data), 2), \n",
    "              '\\tколичество заявок:', len(tmp_data))\n",
    "        tmp_data = data[(data['Period'] == period + 1) & (data['Action'] == action) & (data['Security'] == 1)]\n",
    "        print(f'Процент правильных {action} для купонных облигаций:', \n",
    "              round(np.sum(tmp_data['Price'] <= 100) / len(tmp_data), 2), \n",
    "              '\\tколичество заявок:', len(tmp_data))\n",
    "    \n",
    "    # --- Ask, Sell\n",
    "    for action in ['Ask', 'Sell']:\n",
    "        tmp_data = data[(data['Period'] == period + 1) & (data['Action'] == action) & (data['Security'] == 2)]\n",
    "        print(f'Процент правильных {action} для бескупонных облигаций:', \n",
    "              round(np.sum(tmp_data['Price'] >= zero_cp[period]) / len(tmp_data), 2), \n",
    "              '\\tколичество заявок:', len(tmp_data))\n",
    "        tmp_data = data[(data['Period'] == period + 1) & (data['Action'] == action) & (data['Security'] == 1)]\n",
    "        print(f'Процент правильных {action} для купонных облигаций:', \n",
    "              round(np.sum(tmp_data['Price'] >= 100) / len(tmp_data), 2), \n",
    "              '\\tколичество заявок:', len(tmp_data))\n",
    "    \n",
    "    print('\\n')"
   ]
  },
  {
   "cell_type": "markdown",
   "metadata": {},
   "source": [
    "**Кажется, что ошибки совершались достаточно часто.**\n",
    "\n",
    "**Рассмотрим индивидуальное поведение:**"
   ]
  },
  {
   "cell_type": "code",
   "execution_count": 10,
   "metadata": {},
   "outputs": [],
   "source": [
    "def compute_errors(player, period, action):\n",
    "    tmp_data = data[(data['Trader 1'] == player) & (data['Period'] == period) & \n",
    "                    (data['Action'] == action) & (data['Security'] == 2)]\n",
    "    if action in ['Bid', 'Buy']:\n",
    "        val_cp = np.nan_to_num(round(np.sum(tmp_data['Price'] <= 100) / len(tmp_data), 2), nan=-1)\n",
    "        val_zero = np.nan_to_num(round(np.sum(tmp_data['Price'] <= zero_cp[period - 1]) / len(tmp_data), 2), \n",
    "                                 nan=-1)\n",
    "        return [val_cp, val_zero]\n",
    "    else:\n",
    "        val_cp = np.nan_to_num(round(np.sum(tmp_data['Price'] >= 100) / len(tmp_data), 2), nan=-1)\n",
    "        val_zero = np.nan_to_num(round(np.sum(tmp_data['Price'] >= zero_cp[period - 1]) / len(tmp_data), 2), \n",
    "                                 nan=-1)\n",
    "        return [val_cp, val_zero]"
   ]
  },
  {
   "cell_type": "code",
   "execution_count": 11,
   "metadata": {},
   "outputs": [
    {
     "name": "stderr",
     "output_type": "stream",
     "text": [
      "/Users/daryapolyudova/anaconda3/lib/python3.7/site-packages/ipykernel_launcher.py:5: RuntimeWarning: invalid value encountered in long_scalars\n",
      "  \"\"\"\n",
      "/Users/daryapolyudova/anaconda3/lib/python3.7/site-packages/ipykernel_launcher.py:6: RuntimeWarning: invalid value encountered in long_scalars\n",
      "  \n",
      "/Users/daryapolyudova/anaconda3/lib/python3.7/site-packages/ipykernel_launcher.py:10: RuntimeWarning: invalid value encountered in long_scalars\n",
      "  # Remove the CWD from sys.path while we load stuff.\n",
      "/Users/daryapolyudova/anaconda3/lib/python3.7/site-packages/ipykernel_launcher.py:11: RuntimeWarning: invalid value encountered in long_scalars\n",
      "  # This is added back by InteractiveShellApp.init_path()\n"
     ]
    }
   ],
   "source": [
    "error_table = [[] for i in range(15)]\n",
    "for player in range(1, 16):\n",
    "    for period in [1, 2, 3]:\n",
    "        for action in ['Bid', 'Buy', 'Ask', 'Sell']:\n",
    "            error_table[player - 1] += compute_errors(player, period, action)"
   ]
  },
  {
   "cell_type": "code",
   "execution_count": 12,
   "metadata": {},
   "outputs": [],
   "source": [
    "info = []\n",
    "for period in [1, 2, 3]:\n",
    "    for action in ['Bid', 'Buy', 'Ask', 'Sell']:\n",
    "        for asset in ['cp', 'zero_cp']:\n",
    "            info.append((f'period: {period}, {action}, {asset}'))"
   ]
  },
  {
   "cell_type": "code",
   "execution_count": 13,
   "metadata": {},
   "outputs": [],
   "source": [
    "names = list(pd.read_excel('190913B01-2.xls', sheet_name=4)['Real Name 1'][:15].values)"
   ]
  },
  {
   "cell_type": "code",
   "execution_count": 14,
   "metadata": {},
   "outputs": [],
   "source": [
    "import plotly.graph_objects as go\n",
    "from plotly.subplots import make_subplots"
   ]
  },
  {
   "cell_type": "code",
   "execution_count": 16,
   "metadata": {},
   "outputs": [
    {
     "data": {
      "application/vnd.plotly.v1+json": {
       "config": {
        "plotlyServerURL": "https://plot.ly"
       },
       "data": [
        {
         "hovertext": [
          "period: 1, Bid, cp",
          "period: 1, Bid, zero_cp",
          "period: 1, Buy, cp",
          "period: 1, Buy, zero_cp",
          "period: 1, Ask, cp",
          "period: 1, Ask, zero_cp",
          "period: 1, Sell, cp",
          "period: 1, Sell, zero_cp",
          "period: 2, Bid, cp",
          "period: 2, Bid, zero_cp",
          "period: 2, Buy, cp",
          "period: 2, Buy, zero_cp",
          "period: 2, Ask, cp",
          "period: 2, Ask, zero_cp",
          "period: 2, Sell, cp",
          "period: 2, Sell, zero_cp",
          "period: 3, Bid, cp",
          "period: 3, Bid, zero_cp",
          "period: 3, Buy, cp",
          "period: 3, Buy, zero_cp",
          "period: 3, Ask, cp",
          "period: 3, Ask, zero_cp",
          "period: 3, Sell, cp",
          "period: 3, Sell, zero_cp"
         ],
         "line": {
          "color": "forestgreen",
          "width": 2
         },
         "mode": "lines+markers",
         "type": "scatter",
         "x": [
          0,
          1,
          2,
          3,
          4,
          5,
          6,
          7,
          8,
          9,
          10,
          11,
          12,
          13,
          14,
          15,
          16,
          17,
          18,
          19,
          20,
          21,
          22,
          23
         ],
         "xaxis": "x",
         "y": [
          1,
          0.25,
          -1,
          -1,
          -1,
          -1,
          -1,
          -1,
          -1,
          -1,
          -1,
          -1,
          0,
          1,
          0,
          1,
          -1,
          -1,
          -1,
          -1,
          0,
          1,
          -1,
          -1
         ],
         "yaxis": "y"
        },
        {
         "line": {
          "color": "royalblue",
          "width": 2
         },
         "mode": "lines",
         "type": "scatter",
         "x": [
          0,
          1,
          2,
          3,
          4,
          5,
          6,
          7,
          8,
          9,
          10,
          11,
          12,
          13,
          14,
          15,
          16,
          17,
          18,
          19,
          20,
          21,
          22,
          23
         ],
         "xaxis": "x",
         "y": [
          0,
          0,
          0,
          0,
          0,
          0,
          0,
          0,
          0,
          0,
          0,
          0,
          0,
          0,
          0,
          0,
          0,
          0,
          0,
          0,
          0,
          0,
          0,
          0
         ],
         "yaxis": "y"
        },
        {
         "hovertext": [
          "period: 1, Bid, cp",
          "period: 1, Bid, zero_cp",
          "period: 1, Buy, cp",
          "period: 1, Buy, zero_cp",
          "period: 1, Ask, cp",
          "period: 1, Ask, zero_cp",
          "period: 1, Sell, cp",
          "period: 1, Sell, zero_cp",
          "period: 2, Bid, cp",
          "period: 2, Bid, zero_cp",
          "period: 2, Buy, cp",
          "period: 2, Buy, zero_cp",
          "period: 2, Ask, cp",
          "period: 2, Ask, zero_cp",
          "period: 2, Sell, cp",
          "period: 2, Sell, zero_cp",
          "period: 3, Bid, cp",
          "period: 3, Bid, zero_cp",
          "period: 3, Buy, cp",
          "period: 3, Buy, zero_cp",
          "period: 3, Ask, cp",
          "period: 3, Ask, zero_cp",
          "period: 3, Sell, cp",
          "period: 3, Sell, zero_cp"
         ],
         "line": {
          "color": "forestgreen",
          "width": 2
         },
         "mode": "lines+markers",
         "type": "scatter",
         "x": [
          0,
          1,
          2,
          3,
          4,
          5,
          6,
          7,
          8,
          9,
          10,
          11,
          12,
          13,
          14,
          15,
          16,
          17,
          18,
          19,
          20,
          21,
          22,
          23
         ],
         "xaxis": "x2",
         "y": [
          1,
          0,
          1,
          0,
          0,
          1,
          -1,
          -1,
          -1,
          -1,
          -1,
          -1,
          -1,
          -1,
          0,
          1,
          -1,
          -1,
          -1,
          -1,
          -1,
          -1,
          -1,
          -1
         ],
         "yaxis": "y2"
        },
        {
         "line": {
          "color": "royalblue",
          "width": 2
         },
         "mode": "lines",
         "type": "scatter",
         "x": [
          0,
          1,
          2,
          3,
          4,
          5,
          6,
          7,
          8,
          9,
          10,
          11,
          12,
          13,
          14,
          15,
          16,
          17,
          18,
          19,
          20,
          21,
          22,
          23
         ],
         "xaxis": "x2",
         "y": [
          0,
          0,
          0,
          0,
          0,
          0,
          0,
          0,
          0,
          0,
          0,
          0,
          0,
          0,
          0,
          0,
          0,
          0,
          0,
          0,
          0,
          0,
          0,
          0
         ],
         "yaxis": "y2"
        },
        {
         "hovertext": [
          "period: 1, Bid, cp",
          "period: 1, Bid, zero_cp",
          "period: 1, Buy, cp",
          "period: 1, Buy, zero_cp",
          "period: 1, Ask, cp",
          "period: 1, Ask, zero_cp",
          "period: 1, Sell, cp",
          "period: 1, Sell, zero_cp",
          "period: 2, Bid, cp",
          "period: 2, Bid, zero_cp",
          "period: 2, Buy, cp",
          "period: 2, Buy, zero_cp",
          "period: 2, Ask, cp",
          "period: 2, Ask, zero_cp",
          "period: 2, Sell, cp",
          "period: 2, Sell, zero_cp",
          "period: 3, Bid, cp",
          "period: 3, Bid, zero_cp",
          "period: 3, Buy, cp",
          "period: 3, Buy, zero_cp",
          "period: 3, Ask, cp",
          "period: 3, Ask, zero_cp",
          "period: 3, Sell, cp",
          "period: 3, Sell, zero_cp"
         ],
         "line": {
          "color": "forestgreen",
          "width": 2
         },
         "mode": "lines+markers",
         "type": "scatter",
         "x": [
          0,
          1,
          2,
          3,
          4,
          5,
          6,
          7,
          8,
          9,
          10,
          11,
          12,
          13,
          14,
          15,
          16,
          17,
          18,
          19,
          20,
          21,
          22,
          23
         ],
         "xaxis": "x3",
         "y": [
          1,
          1,
          -1,
          -1,
          0,
          1,
          -1,
          -1,
          1,
          0,
          1,
          0,
          0,
          1,
          -1,
          -1,
          1,
          0,
          -1,
          -1,
          -1,
          -1,
          -1,
          -1
         ],
         "yaxis": "y3"
        },
        {
         "line": {
          "color": "royalblue",
          "width": 2
         },
         "mode": "lines",
         "type": "scatter",
         "x": [
          0,
          1,
          2,
          3,
          4,
          5,
          6,
          7,
          8,
          9,
          10,
          11,
          12,
          13,
          14,
          15,
          16,
          17,
          18,
          19,
          20,
          21,
          22,
          23
         ],
         "xaxis": "x3",
         "y": [
          0,
          0,
          0,
          0,
          0,
          0,
          0,
          0,
          0,
          0,
          0,
          0,
          0,
          0,
          0,
          0,
          0,
          0,
          0,
          0,
          0,
          0,
          0,
          0
         ],
         "yaxis": "y3"
        },
        {
         "hovertext": [
          "period: 1, Bid, cp",
          "period: 1, Bid, zero_cp",
          "period: 1, Buy, cp",
          "period: 1, Buy, zero_cp",
          "period: 1, Ask, cp",
          "period: 1, Ask, zero_cp",
          "period: 1, Sell, cp",
          "period: 1, Sell, zero_cp",
          "period: 2, Bid, cp",
          "period: 2, Bid, zero_cp",
          "period: 2, Buy, cp",
          "period: 2, Buy, zero_cp",
          "period: 2, Ask, cp",
          "period: 2, Ask, zero_cp",
          "period: 2, Sell, cp",
          "period: 2, Sell, zero_cp",
          "period: 3, Bid, cp",
          "period: 3, Bid, zero_cp",
          "period: 3, Buy, cp",
          "period: 3, Buy, zero_cp",
          "period: 3, Ask, cp",
          "period: 3, Ask, zero_cp",
          "period: 3, Sell, cp",
          "period: 3, Sell, zero_cp"
         ],
         "line": {
          "color": "forestgreen",
          "width": 2
         },
         "mode": "lines+markers",
         "type": "scatter",
         "x": [
          0,
          1,
          2,
          3,
          4,
          5,
          6,
          7,
          8,
          9,
          10,
          11,
          12,
          13,
          14,
          15,
          16,
          17,
          18,
          19,
          20,
          21,
          22,
          23
         ],
         "xaxis": "x4",
         "y": [
          -1,
          -1,
          -1,
          -1,
          -1,
          -1,
          -1,
          -1,
          -1,
          -1,
          1,
          0,
          0,
          1,
          -1,
          -1,
          -1,
          -1,
          -1,
          -1,
          0,
          1,
          -1,
          -1
         ],
         "yaxis": "y4"
        },
        {
         "line": {
          "color": "royalblue",
          "width": 2
         },
         "mode": "lines",
         "type": "scatter",
         "x": [
          0,
          1,
          2,
          3,
          4,
          5,
          6,
          7,
          8,
          9,
          10,
          11,
          12,
          13,
          14,
          15,
          16,
          17,
          18,
          19,
          20,
          21,
          22,
          23
         ],
         "xaxis": "x4",
         "y": [
          0,
          0,
          0,
          0,
          0,
          0,
          0,
          0,
          0,
          0,
          0,
          0,
          0,
          0,
          0,
          0,
          0,
          0,
          0,
          0,
          0,
          0,
          0,
          0
         ],
         "yaxis": "y4"
        },
        {
         "hovertext": [
          "period: 1, Bid, cp",
          "period: 1, Bid, zero_cp",
          "period: 1, Buy, cp",
          "period: 1, Buy, zero_cp",
          "period: 1, Ask, cp",
          "period: 1, Ask, zero_cp",
          "period: 1, Sell, cp",
          "period: 1, Sell, zero_cp",
          "period: 2, Bid, cp",
          "period: 2, Bid, zero_cp",
          "period: 2, Buy, cp",
          "period: 2, Buy, zero_cp",
          "period: 2, Ask, cp",
          "period: 2, Ask, zero_cp",
          "period: 2, Sell, cp",
          "period: 2, Sell, zero_cp",
          "period: 3, Bid, cp",
          "period: 3, Bid, zero_cp",
          "period: 3, Buy, cp",
          "period: 3, Buy, zero_cp",
          "period: 3, Ask, cp",
          "period: 3, Ask, zero_cp",
          "period: 3, Sell, cp",
          "period: 3, Sell, zero_cp"
         ],
         "line": {
          "color": "forestgreen",
          "width": 2
         },
         "mode": "lines+markers",
         "type": "scatter",
         "x": [
          0,
          1,
          2,
          3,
          4,
          5,
          6,
          7,
          8,
          9,
          10,
          11,
          12,
          13,
          14,
          15,
          16,
          17,
          18,
          19,
          20,
          21,
          22,
          23
         ],
         "xaxis": "x5",
         "y": [
          1,
          0,
          -1,
          -1,
          -1,
          -1,
          -1,
          -1,
          1,
          0,
          -1,
          -1,
          0,
          1,
          0,
          1,
          -1,
          -1,
          -1,
          -1,
          0,
          1,
          -1,
          -1
         ],
         "yaxis": "y5"
        },
        {
         "line": {
          "color": "royalblue",
          "width": 2
         },
         "mode": "lines",
         "type": "scatter",
         "x": [
          0,
          1,
          2,
          3,
          4,
          5,
          6,
          7,
          8,
          9,
          10,
          11,
          12,
          13,
          14,
          15,
          16,
          17,
          18,
          19,
          20,
          21,
          22,
          23
         ],
         "xaxis": "x5",
         "y": [
          0,
          0,
          0,
          0,
          0,
          0,
          0,
          0,
          0,
          0,
          0,
          0,
          0,
          0,
          0,
          0,
          0,
          0,
          0,
          0,
          0,
          0,
          0,
          0
         ],
         "yaxis": "y5"
        },
        {
         "hovertext": [
          "period: 1, Bid, cp",
          "period: 1, Bid, zero_cp",
          "period: 1, Buy, cp",
          "period: 1, Buy, zero_cp",
          "period: 1, Ask, cp",
          "period: 1, Ask, zero_cp",
          "period: 1, Sell, cp",
          "period: 1, Sell, zero_cp",
          "period: 2, Bid, cp",
          "period: 2, Bid, zero_cp",
          "period: 2, Buy, cp",
          "period: 2, Buy, zero_cp",
          "period: 2, Ask, cp",
          "period: 2, Ask, zero_cp",
          "period: 2, Sell, cp",
          "period: 2, Sell, zero_cp",
          "period: 3, Bid, cp",
          "period: 3, Bid, zero_cp",
          "period: 3, Buy, cp",
          "period: 3, Buy, zero_cp",
          "period: 3, Ask, cp",
          "period: 3, Ask, zero_cp",
          "period: 3, Sell, cp",
          "period: 3, Sell, zero_cp"
         ],
         "line": {
          "color": "forestgreen",
          "width": 2
         },
         "mode": "lines+markers",
         "type": "scatter",
         "x": [
          0,
          1,
          2,
          3,
          4,
          5,
          6,
          7,
          8,
          9,
          10,
          11,
          12,
          13,
          14,
          15,
          16,
          17,
          18,
          19,
          20,
          21,
          22,
          23
         ],
         "xaxis": "x6",
         "y": [
          1,
          0,
          -1,
          -1,
          0,
          1,
          -1,
          -1,
          1,
          0,
          1,
          0,
          0,
          1,
          0,
          1,
          1,
          0,
          -1,
          -1,
          0,
          1,
          -1,
          -1
         ],
         "yaxis": "y6"
        },
        {
         "line": {
          "color": "royalblue",
          "width": 2
         },
         "mode": "lines",
         "type": "scatter",
         "x": [
          0,
          1,
          2,
          3,
          4,
          5,
          6,
          7,
          8,
          9,
          10,
          11,
          12,
          13,
          14,
          15,
          16,
          17,
          18,
          19,
          20,
          21,
          22,
          23
         ],
         "xaxis": "x6",
         "y": [
          0,
          0,
          0,
          0,
          0,
          0,
          0,
          0,
          0,
          0,
          0,
          0,
          0,
          0,
          0,
          0,
          0,
          0,
          0,
          0,
          0,
          0,
          0,
          0
         ],
         "yaxis": "y6"
        },
        {
         "hovertext": [
          "period: 1, Bid, cp",
          "period: 1, Bid, zero_cp",
          "period: 1, Buy, cp",
          "period: 1, Buy, zero_cp",
          "period: 1, Ask, cp",
          "period: 1, Ask, zero_cp",
          "period: 1, Sell, cp",
          "period: 1, Sell, zero_cp",
          "period: 2, Bid, cp",
          "period: 2, Bid, zero_cp",
          "period: 2, Buy, cp",
          "period: 2, Buy, zero_cp",
          "period: 2, Ask, cp",
          "period: 2, Ask, zero_cp",
          "period: 2, Sell, cp",
          "period: 2, Sell, zero_cp",
          "period: 3, Bid, cp",
          "period: 3, Bid, zero_cp",
          "period: 3, Buy, cp",
          "period: 3, Buy, zero_cp",
          "period: 3, Ask, cp",
          "period: 3, Ask, zero_cp",
          "period: 3, Sell, cp",
          "period: 3, Sell, zero_cp"
         ],
         "line": {
          "color": "forestgreen",
          "width": 2
         },
         "mode": "lines+markers",
         "type": "scatter",
         "x": [
          0,
          1,
          2,
          3,
          4,
          5,
          6,
          7,
          8,
          9,
          10,
          11,
          12,
          13,
          14,
          15,
          16,
          17,
          18,
          19,
          20,
          21,
          22,
          23
         ],
         "xaxis": "x7",
         "y": [
          1,
          1,
          -1,
          -1,
          0,
          1,
          -1,
          -1,
          -1,
          -1,
          -1,
          -1,
          0,
          1,
          -1,
          -1,
          1,
          1,
          -1,
          -1,
          -1,
          -1,
          -1,
          -1
         ],
         "yaxis": "y7"
        },
        {
         "line": {
          "color": "royalblue",
          "width": 2
         },
         "mode": "lines",
         "type": "scatter",
         "x": [
          0,
          1,
          2,
          3,
          4,
          5,
          6,
          7,
          8,
          9,
          10,
          11,
          12,
          13,
          14,
          15,
          16,
          17,
          18,
          19,
          20,
          21,
          22,
          23
         ],
         "xaxis": "x7",
         "y": [
          0,
          0,
          0,
          0,
          0,
          0,
          0,
          0,
          0,
          0,
          0,
          0,
          0,
          0,
          0,
          0,
          0,
          0,
          0,
          0,
          0,
          0,
          0,
          0
         ],
         "yaxis": "y7"
        },
        {
         "hovertext": [
          "period: 1, Bid, cp",
          "period: 1, Bid, zero_cp",
          "period: 1, Buy, cp",
          "period: 1, Buy, zero_cp",
          "period: 1, Ask, cp",
          "period: 1, Ask, zero_cp",
          "period: 1, Sell, cp",
          "period: 1, Sell, zero_cp",
          "period: 2, Bid, cp",
          "period: 2, Bid, zero_cp",
          "period: 2, Buy, cp",
          "period: 2, Buy, zero_cp",
          "period: 2, Ask, cp",
          "period: 2, Ask, zero_cp",
          "period: 2, Sell, cp",
          "period: 2, Sell, zero_cp",
          "period: 3, Bid, cp",
          "period: 3, Bid, zero_cp",
          "period: 3, Buy, cp",
          "period: 3, Buy, zero_cp",
          "period: 3, Ask, cp",
          "period: 3, Ask, zero_cp",
          "period: 3, Sell, cp",
          "period: 3, Sell, zero_cp"
         ],
         "line": {
          "color": "forestgreen",
          "width": 2
         },
         "mode": "lines+markers",
         "type": "scatter",
         "x": [
          0,
          1,
          2,
          3,
          4,
          5,
          6,
          7,
          8,
          9,
          10,
          11,
          12,
          13,
          14,
          15,
          16,
          17,
          18,
          19,
          20,
          21,
          22,
          23
         ],
         "xaxis": "x8",
         "y": [
          1,
          0,
          1,
          0,
          0,
          0,
          0,
          1,
          -1,
          -1,
          1,
          0,
          -1,
          -1,
          0,
          0.83,
          -1,
          -1,
          1,
          0,
          -1,
          -1,
          0,
          1
         ],
         "yaxis": "y8"
        },
        {
         "line": {
          "color": "royalblue",
          "width": 2
         },
         "mode": "lines",
         "type": "scatter",
         "x": [
          0,
          1,
          2,
          3,
          4,
          5,
          6,
          7,
          8,
          9,
          10,
          11,
          12,
          13,
          14,
          15,
          16,
          17,
          18,
          19,
          20,
          21,
          22,
          23
         ],
         "xaxis": "x8",
         "y": [
          0,
          0,
          0,
          0,
          0,
          0,
          0,
          0,
          0,
          0,
          0,
          0,
          0,
          0,
          0,
          0,
          0,
          0,
          0,
          0,
          0,
          0,
          0,
          0
         ],
         "yaxis": "y8"
        },
        {
         "hovertext": [
          "period: 1, Bid, cp",
          "period: 1, Bid, zero_cp",
          "period: 1, Buy, cp",
          "period: 1, Buy, zero_cp",
          "period: 1, Ask, cp",
          "period: 1, Ask, zero_cp",
          "period: 1, Sell, cp",
          "period: 1, Sell, zero_cp",
          "period: 2, Bid, cp",
          "period: 2, Bid, zero_cp",
          "period: 2, Buy, cp",
          "period: 2, Buy, zero_cp",
          "period: 2, Ask, cp",
          "period: 2, Ask, zero_cp",
          "period: 2, Sell, cp",
          "period: 2, Sell, zero_cp",
          "period: 3, Bid, cp",
          "period: 3, Bid, zero_cp",
          "period: 3, Buy, cp",
          "period: 3, Buy, zero_cp",
          "period: 3, Ask, cp",
          "period: 3, Ask, zero_cp",
          "period: 3, Sell, cp",
          "period: 3, Sell, zero_cp"
         ],
         "line": {
          "color": "forestgreen",
          "width": 2
         },
         "mode": "lines+markers",
         "type": "scatter",
         "x": [
          0,
          1,
          2,
          3,
          4,
          5,
          6,
          7,
          8,
          9,
          10,
          11,
          12,
          13,
          14,
          15,
          16,
          17,
          18,
          19,
          20,
          21,
          22,
          23
         ],
         "xaxis": "x9",
         "y": [
          0.31,
          0.31,
          1,
          0,
          -1,
          -1,
          -1,
          -1,
          1,
          0,
          -1,
          -1,
          -1,
          -1,
          -1,
          -1,
          -1,
          -1,
          -1,
          -1,
          -1,
          -1,
          -1,
          -1
         ],
         "yaxis": "y9"
        },
        {
         "line": {
          "color": "royalblue",
          "width": 2
         },
         "mode": "lines",
         "type": "scatter",
         "x": [
          0,
          1,
          2,
          3,
          4,
          5,
          6,
          7,
          8,
          9,
          10,
          11,
          12,
          13,
          14,
          15,
          16,
          17,
          18,
          19,
          20,
          21,
          22,
          23
         ],
         "xaxis": "x9",
         "y": [
          0,
          0,
          0,
          0,
          0,
          0,
          0,
          0,
          0,
          0,
          0,
          0,
          0,
          0,
          0,
          0,
          0,
          0,
          0,
          0,
          0,
          0,
          0,
          0
         ],
         "yaxis": "y9"
        },
        {
         "hovertext": [
          "period: 1, Bid, cp",
          "period: 1, Bid, zero_cp",
          "period: 1, Buy, cp",
          "period: 1, Buy, zero_cp",
          "period: 1, Ask, cp",
          "period: 1, Ask, zero_cp",
          "period: 1, Sell, cp",
          "period: 1, Sell, zero_cp",
          "period: 2, Bid, cp",
          "period: 2, Bid, zero_cp",
          "period: 2, Buy, cp",
          "period: 2, Buy, zero_cp",
          "period: 2, Ask, cp",
          "period: 2, Ask, zero_cp",
          "period: 2, Sell, cp",
          "period: 2, Sell, zero_cp",
          "period: 3, Bid, cp",
          "period: 3, Bid, zero_cp",
          "period: 3, Buy, cp",
          "period: 3, Buy, zero_cp",
          "period: 3, Ask, cp",
          "period: 3, Ask, zero_cp",
          "period: 3, Sell, cp",
          "period: 3, Sell, zero_cp"
         ],
         "line": {
          "color": "forestgreen",
          "width": 2
         },
         "mode": "lines+markers",
         "type": "scatter",
         "x": [
          0,
          1,
          2,
          3,
          4,
          5,
          6,
          7,
          8,
          9,
          10,
          11,
          12,
          13,
          14,
          15,
          16,
          17,
          18,
          19,
          20,
          21,
          22,
          23
         ],
         "xaxis": "x10",
         "y": [
          1,
          0,
          -1,
          -1,
          0,
          1,
          -1,
          -1,
          1,
          0.61,
          -1,
          -1,
          -1,
          -1,
          -1,
          -1,
          -1,
          -1,
          -1,
          -1,
          -1,
          -1,
          -1,
          -1
         ],
         "yaxis": "y10"
        },
        {
         "line": {
          "color": "royalblue",
          "width": 2
         },
         "mode": "lines",
         "type": "scatter",
         "x": [
          0,
          1,
          2,
          3,
          4,
          5,
          6,
          7,
          8,
          9,
          10,
          11,
          12,
          13,
          14,
          15,
          16,
          17,
          18,
          19,
          20,
          21,
          22,
          23
         ],
         "xaxis": "x10",
         "y": [
          0,
          0,
          0,
          0,
          0,
          0,
          0,
          0,
          0,
          0,
          0,
          0,
          0,
          0,
          0,
          0,
          0,
          0,
          0,
          0,
          0,
          0,
          0,
          0
         ],
         "yaxis": "y10"
        },
        {
         "hovertext": [
          "period: 1, Bid, cp",
          "period: 1, Bid, zero_cp",
          "period: 1, Buy, cp",
          "period: 1, Buy, zero_cp",
          "period: 1, Ask, cp",
          "period: 1, Ask, zero_cp",
          "period: 1, Sell, cp",
          "period: 1, Sell, zero_cp",
          "period: 2, Bid, cp",
          "period: 2, Bid, zero_cp",
          "period: 2, Buy, cp",
          "period: 2, Buy, zero_cp",
          "period: 2, Ask, cp",
          "period: 2, Ask, zero_cp",
          "period: 2, Sell, cp",
          "period: 2, Sell, zero_cp",
          "period: 3, Bid, cp",
          "period: 3, Bid, zero_cp",
          "period: 3, Buy, cp",
          "period: 3, Buy, zero_cp",
          "period: 3, Ask, cp",
          "period: 3, Ask, zero_cp",
          "period: 3, Sell, cp",
          "period: 3, Sell, zero_cp"
         ],
         "line": {
          "color": "forestgreen",
          "width": 2
         },
         "mode": "lines+markers",
         "type": "scatter",
         "x": [
          0,
          1,
          2,
          3,
          4,
          5,
          6,
          7,
          8,
          9,
          10,
          11,
          12,
          13,
          14,
          15,
          16,
          17,
          18,
          19,
          20,
          21,
          22,
          23
         ],
         "xaxis": "x11",
         "y": [
          -1,
          -1,
          -1,
          -1,
          0,
          1,
          0,
          1,
          1,
          0.67,
          -1,
          -1,
          1,
          1,
          -1,
          -1,
          1,
          1,
          -1,
          -1,
          -1,
          -1,
          -1,
          -1
         ],
         "yaxis": "y11"
        },
        {
         "line": {
          "color": "royalblue",
          "width": 2
         },
         "mode": "lines",
         "type": "scatter",
         "x": [
          0,
          1,
          2,
          3,
          4,
          5,
          6,
          7,
          8,
          9,
          10,
          11,
          12,
          13,
          14,
          15,
          16,
          17,
          18,
          19,
          20,
          21,
          22,
          23
         ],
         "xaxis": "x11",
         "y": [
          0,
          0,
          0,
          0,
          0,
          0,
          0,
          0,
          0,
          0,
          0,
          0,
          0,
          0,
          0,
          0,
          0,
          0,
          0,
          0,
          0,
          0,
          0,
          0
         ],
         "yaxis": "y11"
        },
        {
         "hovertext": [
          "period: 1, Bid, cp",
          "period: 1, Bid, zero_cp",
          "period: 1, Buy, cp",
          "period: 1, Buy, zero_cp",
          "period: 1, Ask, cp",
          "period: 1, Ask, zero_cp",
          "period: 1, Sell, cp",
          "period: 1, Sell, zero_cp",
          "period: 2, Bid, cp",
          "period: 2, Bid, zero_cp",
          "period: 2, Buy, cp",
          "period: 2, Buy, zero_cp",
          "period: 2, Ask, cp",
          "period: 2, Ask, zero_cp",
          "period: 2, Sell, cp",
          "period: 2, Sell, zero_cp",
          "period: 3, Bid, cp",
          "period: 3, Bid, zero_cp",
          "period: 3, Buy, cp",
          "period: 3, Buy, zero_cp",
          "period: 3, Ask, cp",
          "period: 3, Ask, zero_cp",
          "period: 3, Sell, cp",
          "period: 3, Sell, zero_cp"
         ],
         "line": {
          "color": "forestgreen",
          "width": 2
         },
         "mode": "lines+markers",
         "type": "scatter",
         "x": [
          0,
          1,
          2,
          3,
          4,
          5,
          6,
          7,
          8,
          9,
          10,
          11,
          12,
          13,
          14,
          15,
          16,
          17,
          18,
          19,
          20,
          21,
          22,
          23
         ],
         "xaxis": "x12",
         "y": [
          -1,
          -1,
          -1,
          -1,
          0,
          1,
          -1,
          -1,
          -1,
          -1,
          -1,
          -1,
          0,
          1,
          -1,
          -1,
          -1,
          -1,
          -1,
          -1,
          0,
          1,
          0,
          1
         ],
         "yaxis": "y12"
        },
        {
         "line": {
          "color": "royalblue",
          "width": 2
         },
         "mode": "lines",
         "type": "scatter",
         "x": [
          0,
          1,
          2,
          3,
          4,
          5,
          6,
          7,
          8,
          9,
          10,
          11,
          12,
          13,
          14,
          15,
          16,
          17,
          18,
          19,
          20,
          21,
          22,
          23
         ],
         "xaxis": "x12",
         "y": [
          0,
          0,
          0,
          0,
          0,
          0,
          0,
          0,
          0,
          0,
          0,
          0,
          0,
          0,
          0,
          0,
          0,
          0,
          0,
          0,
          0,
          0,
          0,
          0
         ],
         "yaxis": "y12"
        },
        {
         "hovertext": [
          "period: 1, Bid, cp",
          "period: 1, Bid, zero_cp",
          "period: 1, Buy, cp",
          "period: 1, Buy, zero_cp",
          "period: 1, Ask, cp",
          "period: 1, Ask, zero_cp",
          "period: 1, Sell, cp",
          "period: 1, Sell, zero_cp",
          "period: 2, Bid, cp",
          "period: 2, Bid, zero_cp",
          "period: 2, Buy, cp",
          "period: 2, Buy, zero_cp",
          "period: 2, Ask, cp",
          "period: 2, Ask, zero_cp",
          "period: 2, Sell, cp",
          "period: 2, Sell, zero_cp",
          "period: 3, Bid, cp",
          "period: 3, Bid, zero_cp",
          "period: 3, Buy, cp",
          "period: 3, Buy, zero_cp",
          "period: 3, Ask, cp",
          "period: 3, Ask, zero_cp",
          "period: 3, Sell, cp",
          "period: 3, Sell, zero_cp"
         ],
         "line": {
          "color": "forestgreen",
          "width": 2
         },
         "mode": "lines+markers",
         "type": "scatter",
         "x": [
          0,
          1,
          2,
          3,
          4,
          5,
          6,
          7,
          8,
          9,
          10,
          11,
          12,
          13,
          14,
          15,
          16,
          17,
          18,
          19,
          20,
          21,
          22,
          23
         ],
         "xaxis": "x13",
         "y": [
          1,
          0,
          -1,
          -1,
          -1,
          -1,
          -1,
          -1,
          1,
          0.33,
          1,
          1,
          -1,
          -1,
          -1,
          -1,
          1,
          0.2,
          1,
          0,
          -1,
          -1,
          -1,
          -1
         ],
         "yaxis": "y13"
        },
        {
         "line": {
          "color": "royalblue",
          "width": 2
         },
         "mode": "lines",
         "type": "scatter",
         "x": [
          0,
          1,
          2,
          3,
          4,
          5,
          6,
          7,
          8,
          9,
          10,
          11,
          12,
          13,
          14,
          15,
          16,
          17,
          18,
          19,
          20,
          21,
          22,
          23
         ],
         "xaxis": "x13",
         "y": [
          0,
          0,
          0,
          0,
          0,
          0,
          0,
          0,
          0,
          0,
          0,
          0,
          0,
          0,
          0,
          0,
          0,
          0,
          0,
          0,
          0,
          0,
          0,
          0
         ],
         "yaxis": "y13"
        },
        {
         "hovertext": [
          "period: 1, Bid, cp",
          "period: 1, Bid, zero_cp",
          "period: 1, Buy, cp",
          "period: 1, Buy, zero_cp",
          "period: 1, Ask, cp",
          "period: 1, Ask, zero_cp",
          "period: 1, Sell, cp",
          "period: 1, Sell, zero_cp",
          "period: 2, Bid, cp",
          "period: 2, Bid, zero_cp",
          "period: 2, Buy, cp",
          "period: 2, Buy, zero_cp",
          "period: 2, Ask, cp",
          "period: 2, Ask, zero_cp",
          "period: 2, Sell, cp",
          "period: 2, Sell, zero_cp",
          "period: 3, Bid, cp",
          "period: 3, Bid, zero_cp",
          "period: 3, Buy, cp",
          "period: 3, Buy, zero_cp",
          "period: 3, Ask, cp",
          "period: 3, Ask, zero_cp",
          "period: 3, Sell, cp",
          "period: 3, Sell, zero_cp"
         ],
         "line": {
          "color": "forestgreen",
          "width": 2
         },
         "mode": "lines+markers",
         "type": "scatter",
         "x": [
          0,
          1,
          2,
          3,
          4,
          5,
          6,
          7,
          8,
          9,
          10,
          11,
          12,
          13,
          14,
          15,
          16,
          17,
          18,
          19,
          20,
          21,
          22,
          23
         ],
         "xaxis": "x14",
         "y": [
          -1,
          -1,
          -1,
          -1,
          0,
          1,
          0,
          1,
          1,
          0,
          -1,
          -1,
          -1,
          -1,
          -1,
          -1,
          -1,
          -1,
          -1,
          -1,
          0,
          1,
          0,
          1
         ],
         "yaxis": "y14"
        },
        {
         "line": {
          "color": "royalblue",
          "width": 2
         },
         "mode": "lines",
         "type": "scatter",
         "x": [
          0,
          1,
          2,
          3,
          4,
          5,
          6,
          7,
          8,
          9,
          10,
          11,
          12,
          13,
          14,
          15,
          16,
          17,
          18,
          19,
          20,
          21,
          22,
          23
         ],
         "xaxis": "x14",
         "y": [
          0,
          0,
          0,
          0,
          0,
          0,
          0,
          0,
          0,
          0,
          0,
          0,
          0,
          0,
          0,
          0,
          0,
          0,
          0,
          0,
          0,
          0,
          0,
          0
         ],
         "yaxis": "y14"
        },
        {
         "hovertext": [
          "period: 1, Bid, cp",
          "period: 1, Bid, zero_cp",
          "period: 1, Buy, cp",
          "period: 1, Buy, zero_cp",
          "period: 1, Ask, cp",
          "period: 1, Ask, zero_cp",
          "period: 1, Sell, cp",
          "period: 1, Sell, zero_cp",
          "period: 2, Bid, cp",
          "period: 2, Bid, zero_cp",
          "period: 2, Buy, cp",
          "period: 2, Buy, zero_cp",
          "period: 2, Ask, cp",
          "period: 2, Ask, zero_cp",
          "period: 2, Sell, cp",
          "period: 2, Sell, zero_cp",
          "period: 3, Bid, cp",
          "period: 3, Bid, zero_cp",
          "period: 3, Buy, cp",
          "period: 3, Buy, zero_cp",
          "period: 3, Ask, cp",
          "period: 3, Ask, zero_cp",
          "period: 3, Sell, cp",
          "period: 3, Sell, zero_cp"
         ],
         "line": {
          "color": "forestgreen",
          "width": 2
         },
         "mode": "lines+markers",
         "type": "scatter",
         "x": [
          0,
          1,
          2,
          3,
          4,
          5,
          6,
          7,
          8,
          9,
          10,
          11,
          12,
          13,
          14,
          15,
          16,
          17,
          18,
          19,
          20,
          21,
          22,
          23
         ],
         "xaxis": "x15",
         "y": [
          1,
          0.2,
          1,
          0,
          0.16,
          0.2,
          0,
          1,
          1,
          0.33,
          1,
          0,
          0.29,
          0.29,
          0,
          1,
          1,
          0,
          1,
          0,
          0.75,
          1,
          0,
          1
         ],
         "yaxis": "y15"
        },
        {
         "line": {
          "color": "royalblue",
          "width": 2
         },
         "mode": "lines",
         "type": "scatter",
         "x": [
          0,
          1,
          2,
          3,
          4,
          5,
          6,
          7,
          8,
          9,
          10,
          11,
          12,
          13,
          14,
          15,
          16,
          17,
          18,
          19,
          20,
          21,
          22,
          23
         ],
         "xaxis": "x15",
         "y": [
          0,
          0,
          0,
          0,
          0,
          0,
          0,
          0,
          0,
          0,
          0,
          0,
          0,
          0,
          0,
          0,
          0,
          0,
          0,
          0,
          0,
          0,
          0,
          0
         ],
         "yaxis": "y15"
        }
       ],
       "layout": {
        "annotations": [
         {
          "font": {
           "size": 16
          },
          "showarrow": false,
          "text": "Саттаров",
          "x": 0.225,
          "xanchor": "center",
          "xref": "paper",
          "y": 1,
          "yanchor": "bottom",
          "yref": "paper"
         },
         {
          "font": {
           "size": 16
          },
          "showarrow": false,
          "text": "Игнатьев",
          "x": 0.775,
          "xanchor": "center",
          "xref": "paper",
          "y": 1,
          "yanchor": "bottom",
          "yref": "paper"
         },
         {
          "font": {
           "size": 16
          },
          "showarrow": false,
          "text": "Наседкин",
          "x": 0.225,
          "xanchor": "center",
          "xref": "paper",
          "y": 0.8671875,
          "yanchor": "bottom",
          "yref": "paper"
         },
         {
          "font": {
           "size": 16
          },
          "showarrow": false,
          "text": "Айтыгулов",
          "x": 0.775,
          "xanchor": "center",
          "xref": "paper",
          "y": 0.8671875,
          "yanchor": "bottom",
          "yref": "paper"
         },
         {
          "font": {
           "size": 16
          },
          "showarrow": false,
          "text": "Штыхлина",
          "x": 0.225,
          "xanchor": "center",
          "xref": "paper",
          "y": 0.734375,
          "yanchor": "bottom",
          "yref": "paper"
         },
         {
          "font": {
           "size": 16
          },
          "showarrow": false,
          "text": "Гайворонский",
          "x": 0.775,
          "xanchor": "center",
          "xref": "paper",
          "y": 0.734375,
          "yanchor": "bottom",
          "yref": "paper"
         },
         {
          "font": {
           "size": 16
          },
          "showarrow": false,
          "text": "Терентьева Мария",
          "x": 0.225,
          "xanchor": "center",
          "xref": "paper",
          "y": 0.6015625,
          "yanchor": "bottom",
          "yref": "paper"
         },
         {
          "font": {
           "size": 16
          },
          "showarrow": false,
          "text": "Терентьева Александра",
          "x": 0.775,
          "xanchor": "center",
          "xref": "paper",
          "y": 0.6015625,
          "yanchor": "bottom",
          "yref": "paper"
         },
         {
          "font": {
           "size": 16
          },
          "showarrow": false,
          "text": "Горшко",
          "x": 0.225,
          "xanchor": "center",
          "xref": "paper",
          "y": 0.46875,
          "yanchor": "bottom",
          "yref": "paper"
         },
         {
          "font": {
           "size": 16
          },
          "showarrow": false,
          "text": "Галингер Александр",
          "x": 0.775,
          "xanchor": "center",
          "xref": "paper",
          "y": 0.46875,
          "yanchor": "bottom",
          "yref": "paper"
         },
         {
          "font": {
           "size": 16
          },
          "showarrow": false,
          "text": "Елсуков",
          "x": 0.225,
          "xanchor": "center",
          "xref": "paper",
          "y": 0.3359375,
          "yanchor": "bottom",
          "yref": "paper"
         },
         {
          "font": {
           "size": 16
          },
          "showarrow": false,
          "text": "Мустафин",
          "x": 0.775,
          "xanchor": "center",
          "xref": "paper",
          "y": 0.3359375,
          "yanchor": "bottom",
          "yref": "paper"
         },
         {
          "font": {
           "size": 16
          },
          "showarrow": false,
          "text": "Колчинский",
          "x": 0.225,
          "xanchor": "center",
          "xref": "paper",
          "y": 0.203125,
          "yanchor": "bottom",
          "yref": "paper"
         },
         {
          "font": {
           "size": 16
          },
          "showarrow": false,
          "text": "Осипкина",
          "x": 0.775,
          "xanchor": "center",
          "xref": "paper",
          "y": 0.203125,
          "yanchor": "bottom",
          "yref": "paper"
         },
         {
          "font": {
           "size": 16
          },
          "showarrow": false,
          "text": "Устинова",
          "x": 0.225,
          "xanchor": "center",
          "xref": "paper",
          "y": 0.0703125,
          "yanchor": "bottom",
          "yref": "paper"
         }
        ],
        "height": 1600,
        "showlegend": false,
        "template": {
         "data": {
          "bar": [
           {
            "error_x": {
             "color": "#2a3f5f"
            },
            "error_y": {
             "color": "#2a3f5f"
            },
            "marker": {
             "line": {
              "color": "#E5ECF6",
              "width": 0.5
             }
            },
            "type": "bar"
           }
          ],
          "barpolar": [
           {
            "marker": {
             "line": {
              "color": "#E5ECF6",
              "width": 0.5
             }
            },
            "type": "barpolar"
           }
          ],
          "carpet": [
           {
            "aaxis": {
             "endlinecolor": "#2a3f5f",
             "gridcolor": "white",
             "linecolor": "white",
             "minorgridcolor": "white",
             "startlinecolor": "#2a3f5f"
            },
            "baxis": {
             "endlinecolor": "#2a3f5f",
             "gridcolor": "white",
             "linecolor": "white",
             "minorgridcolor": "white",
             "startlinecolor": "#2a3f5f"
            },
            "type": "carpet"
           }
          ],
          "choropleth": [
           {
            "colorbar": {
             "outlinewidth": 0,
             "ticks": ""
            },
            "type": "choropleth"
           }
          ],
          "contour": [
           {
            "colorbar": {
             "outlinewidth": 0,
             "ticks": ""
            },
            "colorscale": [
             [
              0,
              "#0d0887"
             ],
             [
              0.1111111111111111,
              "#46039f"
             ],
             [
              0.2222222222222222,
              "#7201a8"
             ],
             [
              0.3333333333333333,
              "#9c179e"
             ],
             [
              0.4444444444444444,
              "#bd3786"
             ],
             [
              0.5555555555555556,
              "#d8576b"
             ],
             [
              0.6666666666666666,
              "#ed7953"
             ],
             [
              0.7777777777777778,
              "#fb9f3a"
             ],
             [
              0.8888888888888888,
              "#fdca26"
             ],
             [
              1,
              "#f0f921"
             ]
            ],
            "type": "contour"
           }
          ],
          "contourcarpet": [
           {
            "colorbar": {
             "outlinewidth": 0,
             "ticks": ""
            },
            "type": "contourcarpet"
           }
          ],
          "heatmap": [
           {
            "colorbar": {
             "outlinewidth": 0,
             "ticks": ""
            },
            "colorscale": [
             [
              0,
              "#0d0887"
             ],
             [
              0.1111111111111111,
              "#46039f"
             ],
             [
              0.2222222222222222,
              "#7201a8"
             ],
             [
              0.3333333333333333,
              "#9c179e"
             ],
             [
              0.4444444444444444,
              "#bd3786"
             ],
             [
              0.5555555555555556,
              "#d8576b"
             ],
             [
              0.6666666666666666,
              "#ed7953"
             ],
             [
              0.7777777777777778,
              "#fb9f3a"
             ],
             [
              0.8888888888888888,
              "#fdca26"
             ],
             [
              1,
              "#f0f921"
             ]
            ],
            "type": "heatmap"
           }
          ],
          "heatmapgl": [
           {
            "colorbar": {
             "outlinewidth": 0,
             "ticks": ""
            },
            "colorscale": [
             [
              0,
              "#0d0887"
             ],
             [
              0.1111111111111111,
              "#46039f"
             ],
             [
              0.2222222222222222,
              "#7201a8"
             ],
             [
              0.3333333333333333,
              "#9c179e"
             ],
             [
              0.4444444444444444,
              "#bd3786"
             ],
             [
              0.5555555555555556,
              "#d8576b"
             ],
             [
              0.6666666666666666,
              "#ed7953"
             ],
             [
              0.7777777777777778,
              "#fb9f3a"
             ],
             [
              0.8888888888888888,
              "#fdca26"
             ],
             [
              1,
              "#f0f921"
             ]
            ],
            "type": "heatmapgl"
           }
          ],
          "histogram": [
           {
            "marker": {
             "colorbar": {
              "outlinewidth": 0,
              "ticks": ""
             }
            },
            "type": "histogram"
           }
          ],
          "histogram2d": [
           {
            "colorbar": {
             "outlinewidth": 0,
             "ticks": ""
            },
            "colorscale": [
             [
              0,
              "#0d0887"
             ],
             [
              0.1111111111111111,
              "#46039f"
             ],
             [
              0.2222222222222222,
              "#7201a8"
             ],
             [
              0.3333333333333333,
              "#9c179e"
             ],
             [
              0.4444444444444444,
              "#bd3786"
             ],
             [
              0.5555555555555556,
              "#d8576b"
             ],
             [
              0.6666666666666666,
              "#ed7953"
             ],
             [
              0.7777777777777778,
              "#fb9f3a"
             ],
             [
              0.8888888888888888,
              "#fdca26"
             ],
             [
              1,
              "#f0f921"
             ]
            ],
            "type": "histogram2d"
           }
          ],
          "histogram2dcontour": [
           {
            "colorbar": {
             "outlinewidth": 0,
             "ticks": ""
            },
            "colorscale": [
             [
              0,
              "#0d0887"
             ],
             [
              0.1111111111111111,
              "#46039f"
             ],
             [
              0.2222222222222222,
              "#7201a8"
             ],
             [
              0.3333333333333333,
              "#9c179e"
             ],
             [
              0.4444444444444444,
              "#bd3786"
             ],
             [
              0.5555555555555556,
              "#d8576b"
             ],
             [
              0.6666666666666666,
              "#ed7953"
             ],
             [
              0.7777777777777778,
              "#fb9f3a"
             ],
             [
              0.8888888888888888,
              "#fdca26"
             ],
             [
              1,
              "#f0f921"
             ]
            ],
            "type": "histogram2dcontour"
           }
          ],
          "mesh3d": [
           {
            "colorbar": {
             "outlinewidth": 0,
             "ticks": ""
            },
            "type": "mesh3d"
           }
          ],
          "parcoords": [
           {
            "line": {
             "colorbar": {
              "outlinewidth": 0,
              "ticks": ""
             }
            },
            "type": "parcoords"
           }
          ],
          "pie": [
           {
            "automargin": true,
            "type": "pie"
           }
          ],
          "scatter": [
           {
            "marker": {
             "colorbar": {
              "outlinewidth": 0,
              "ticks": ""
             }
            },
            "type": "scatter"
           }
          ],
          "scatter3d": [
           {
            "line": {
             "colorbar": {
              "outlinewidth": 0,
              "ticks": ""
             }
            },
            "marker": {
             "colorbar": {
              "outlinewidth": 0,
              "ticks": ""
             }
            },
            "type": "scatter3d"
           }
          ],
          "scattercarpet": [
           {
            "marker": {
             "colorbar": {
              "outlinewidth": 0,
              "ticks": ""
             }
            },
            "type": "scattercarpet"
           }
          ],
          "scattergeo": [
           {
            "marker": {
             "colorbar": {
              "outlinewidth": 0,
              "ticks": ""
             }
            },
            "type": "scattergeo"
           }
          ],
          "scattergl": [
           {
            "marker": {
             "colorbar": {
              "outlinewidth": 0,
              "ticks": ""
             }
            },
            "type": "scattergl"
           }
          ],
          "scattermapbox": [
           {
            "marker": {
             "colorbar": {
              "outlinewidth": 0,
              "ticks": ""
             }
            },
            "type": "scattermapbox"
           }
          ],
          "scatterpolar": [
           {
            "marker": {
             "colorbar": {
              "outlinewidth": 0,
              "ticks": ""
             }
            },
            "type": "scatterpolar"
           }
          ],
          "scatterpolargl": [
           {
            "marker": {
             "colorbar": {
              "outlinewidth": 0,
              "ticks": ""
             }
            },
            "type": "scatterpolargl"
           }
          ],
          "scatterternary": [
           {
            "marker": {
             "colorbar": {
              "outlinewidth": 0,
              "ticks": ""
             }
            },
            "type": "scatterternary"
           }
          ],
          "surface": [
           {
            "colorbar": {
             "outlinewidth": 0,
             "ticks": ""
            },
            "colorscale": [
             [
              0,
              "#0d0887"
             ],
             [
              0.1111111111111111,
              "#46039f"
             ],
             [
              0.2222222222222222,
              "#7201a8"
             ],
             [
              0.3333333333333333,
              "#9c179e"
             ],
             [
              0.4444444444444444,
              "#bd3786"
             ],
             [
              0.5555555555555556,
              "#d8576b"
             ],
             [
              0.6666666666666666,
              "#ed7953"
             ],
             [
              0.7777777777777778,
              "#fb9f3a"
             ],
             [
              0.8888888888888888,
              "#fdca26"
             ],
             [
              1,
              "#f0f921"
             ]
            ],
            "type": "surface"
           }
          ],
          "table": [
           {
            "cells": {
             "fill": {
              "color": "#EBF0F8"
             },
             "line": {
              "color": "white"
             }
            },
            "header": {
             "fill": {
              "color": "#C8D4E3"
             },
             "line": {
              "color": "white"
             }
            },
            "type": "table"
           }
          ]
         },
         "layout": {
          "annotationdefaults": {
           "arrowcolor": "#2a3f5f",
           "arrowhead": 0,
           "arrowwidth": 1
          },
          "coloraxis": {
           "colorbar": {
            "outlinewidth": 0,
            "ticks": ""
           }
          },
          "colorscale": {
           "diverging": [
            [
             0,
             "#8e0152"
            ],
            [
             0.1,
             "#c51b7d"
            ],
            [
             0.2,
             "#de77ae"
            ],
            [
             0.3,
             "#f1b6da"
            ],
            [
             0.4,
             "#fde0ef"
            ],
            [
             0.5,
             "#f7f7f7"
            ],
            [
             0.6,
             "#e6f5d0"
            ],
            [
             0.7,
             "#b8e186"
            ],
            [
             0.8,
             "#7fbc41"
            ],
            [
             0.9,
             "#4d9221"
            ],
            [
             1,
             "#276419"
            ]
           ],
           "sequential": [
            [
             0,
             "#0d0887"
            ],
            [
             0.1111111111111111,
             "#46039f"
            ],
            [
             0.2222222222222222,
             "#7201a8"
            ],
            [
             0.3333333333333333,
             "#9c179e"
            ],
            [
             0.4444444444444444,
             "#bd3786"
            ],
            [
             0.5555555555555556,
             "#d8576b"
            ],
            [
             0.6666666666666666,
             "#ed7953"
            ],
            [
             0.7777777777777778,
             "#fb9f3a"
            ],
            [
             0.8888888888888888,
             "#fdca26"
            ],
            [
             1,
             "#f0f921"
            ]
           ],
           "sequentialminus": [
            [
             0,
             "#0d0887"
            ],
            [
             0.1111111111111111,
             "#46039f"
            ],
            [
             0.2222222222222222,
             "#7201a8"
            ],
            [
             0.3333333333333333,
             "#9c179e"
            ],
            [
             0.4444444444444444,
             "#bd3786"
            ],
            [
             0.5555555555555556,
             "#d8576b"
            ],
            [
             0.6666666666666666,
             "#ed7953"
            ],
            [
             0.7777777777777778,
             "#fb9f3a"
            ],
            [
             0.8888888888888888,
             "#fdca26"
            ],
            [
             1,
             "#f0f921"
            ]
           ]
          },
          "colorway": [
           "#636efa",
           "#EF553B",
           "#00cc96",
           "#ab63fa",
           "#FFA15A",
           "#19d3f3",
           "#FF6692",
           "#B6E880",
           "#FF97FF",
           "#FECB52"
          ],
          "font": {
           "color": "#2a3f5f"
          },
          "geo": {
           "bgcolor": "white",
           "lakecolor": "white",
           "landcolor": "#E5ECF6",
           "showlakes": true,
           "showland": true,
           "subunitcolor": "white"
          },
          "hoverlabel": {
           "align": "left"
          },
          "hovermode": "closest",
          "mapbox": {
           "style": "light"
          },
          "paper_bgcolor": "white",
          "plot_bgcolor": "#E5ECF6",
          "polar": {
           "angularaxis": {
            "gridcolor": "white",
            "linecolor": "white",
            "ticks": ""
           },
           "bgcolor": "#E5ECF6",
           "radialaxis": {
            "gridcolor": "white",
            "linecolor": "white",
            "ticks": ""
           }
          },
          "scene": {
           "xaxis": {
            "backgroundcolor": "#E5ECF6",
            "gridcolor": "white",
            "gridwidth": 2,
            "linecolor": "white",
            "showbackground": true,
            "ticks": "",
            "zerolinecolor": "white"
           },
           "yaxis": {
            "backgroundcolor": "#E5ECF6",
            "gridcolor": "white",
            "gridwidth": 2,
            "linecolor": "white",
            "showbackground": true,
            "ticks": "",
            "zerolinecolor": "white"
           },
           "zaxis": {
            "backgroundcolor": "#E5ECF6",
            "gridcolor": "white",
            "gridwidth": 2,
            "linecolor": "white",
            "showbackground": true,
            "ticks": "",
            "zerolinecolor": "white"
           }
          },
          "shapedefaults": {
           "line": {
            "color": "#2a3f5f"
           }
          },
          "ternary": {
           "aaxis": {
            "gridcolor": "white",
            "linecolor": "white",
            "ticks": ""
           },
           "baxis": {
            "gridcolor": "white",
            "linecolor": "white",
            "ticks": ""
           },
           "bgcolor": "#E5ECF6",
           "caxis": {
            "gridcolor": "white",
            "linecolor": "white",
            "ticks": ""
           }
          },
          "title": {
           "x": 0.05
          },
          "xaxis": {
           "automargin": true,
           "gridcolor": "white",
           "linecolor": "white",
           "ticks": "",
           "title": {
            "standoff": 15
           },
           "zerolinecolor": "white",
           "zerolinewidth": 2
          },
          "yaxis": {
           "automargin": true,
           "gridcolor": "white",
           "linecolor": "white",
           "ticks": "",
           "title": {
            "standoff": 15
           },
           "zerolinecolor": "white",
           "zerolinewidth": 2
          }
         }
        },
        "width": 1000,
        "xaxis": {
         "anchor": "y",
         "domain": [
          0,
          0.45
         ]
        },
        "xaxis10": {
         "anchor": "y10",
         "domain": [
          0.55,
          1
         ]
        },
        "xaxis11": {
         "anchor": "y11",
         "domain": [
          0,
          0.45
         ]
        },
        "xaxis12": {
         "anchor": "y12",
         "domain": [
          0.55,
          1
         ]
        },
        "xaxis13": {
         "anchor": "y13",
         "domain": [
          0,
          0.45
         ]
        },
        "xaxis14": {
         "anchor": "y14",
         "domain": [
          0.55,
          1
         ]
        },
        "xaxis15": {
         "anchor": "y15",
         "domain": [
          0,
          0.45
         ]
        },
        "xaxis16": {
         "anchor": "y16",
         "domain": [
          0.55,
          1
         ]
        },
        "xaxis2": {
         "anchor": "y2",
         "domain": [
          0.55,
          1
         ]
        },
        "xaxis3": {
         "anchor": "y3",
         "domain": [
          0,
          0.45
         ]
        },
        "xaxis4": {
         "anchor": "y4",
         "domain": [
          0.55,
          1
         ]
        },
        "xaxis5": {
         "anchor": "y5",
         "domain": [
          0,
          0.45
         ]
        },
        "xaxis6": {
         "anchor": "y6",
         "domain": [
          0.55,
          1
         ]
        },
        "xaxis7": {
         "anchor": "y7",
         "domain": [
          0,
          0.45
         ]
        },
        "xaxis8": {
         "anchor": "y8",
         "domain": [
          0.55,
          1
         ]
        },
        "xaxis9": {
         "anchor": "y9",
         "domain": [
          0,
          0.45
         ]
        },
        "yaxis": {
         "anchor": "x",
         "domain": [
          0.9296875,
          1
         ]
        },
        "yaxis10": {
         "anchor": "x10",
         "domain": [
          0.3984375,
          0.46875
         ]
        },
        "yaxis11": {
         "anchor": "x11",
         "domain": [
          0.265625,
          0.3359375
         ]
        },
        "yaxis12": {
         "anchor": "x12",
         "domain": [
          0.265625,
          0.3359375
         ]
        },
        "yaxis13": {
         "anchor": "x13",
         "domain": [
          0.1328125,
          0.203125
         ]
        },
        "yaxis14": {
         "anchor": "x14",
         "domain": [
          0.1328125,
          0.203125
         ]
        },
        "yaxis15": {
         "anchor": "x15",
         "domain": [
          0,
          0.0703125
         ]
        },
        "yaxis16": {
         "anchor": "x16",
         "domain": [
          0,
          0.0703125
         ]
        },
        "yaxis2": {
         "anchor": "x2",
         "domain": [
          0.9296875,
          1
         ]
        },
        "yaxis3": {
         "anchor": "x3",
         "domain": [
          0.796875,
          0.8671875
         ]
        },
        "yaxis4": {
         "anchor": "x4",
         "domain": [
          0.796875,
          0.8671875
         ]
        },
        "yaxis5": {
         "anchor": "x5",
         "domain": [
          0.6640625,
          0.734375
         ]
        },
        "yaxis6": {
         "anchor": "x6",
         "domain": [
          0.6640625,
          0.734375
         ]
        },
        "yaxis7": {
         "anchor": "x7",
         "domain": [
          0.53125,
          0.6015625
         ]
        },
        "yaxis8": {
         "anchor": "x8",
         "domain": [
          0.53125,
          0.6015625
         ]
        },
        "yaxis9": {
         "anchor": "x9",
         "domain": [
          0.3984375,
          0.46875
         ]
        }
       }
      },
      "text/html": [
       "<div>\n",
       "        \n",
       "        \n",
       "            <div id=\"48efa64d-89d7-4610-a532-5c2acca46113\" class=\"plotly-graph-div\" style=\"height:1600px; width:1000px;\"></div>\n",
       "            <script type=\"text/javascript\">\n",
       "                require([\"plotly\"], function(Plotly) {\n",
       "                    window.PLOTLYENV=window.PLOTLYENV || {};\n",
       "                    \n",
       "                if (document.getElementById(\"48efa64d-89d7-4610-a532-5c2acca46113\")) {\n",
       "                    Plotly.newPlot(\n",
       "                        '48efa64d-89d7-4610-a532-5c2acca46113',\n",
       "                        [{\"hovertext\": [\"period: 1, Bid, cp\", \"period: 1, Bid, zero_cp\", \"period: 1, Buy, cp\", \"period: 1, Buy, zero_cp\", \"period: 1, Ask, cp\", \"period: 1, Ask, zero_cp\", \"period: 1, Sell, cp\", \"period: 1, Sell, zero_cp\", \"period: 2, Bid, cp\", \"period: 2, Bid, zero_cp\", \"period: 2, Buy, cp\", \"period: 2, Buy, zero_cp\", \"period: 2, Ask, cp\", \"period: 2, Ask, zero_cp\", \"period: 2, Sell, cp\", \"period: 2, Sell, zero_cp\", \"period: 3, Bid, cp\", \"period: 3, Bid, zero_cp\", \"period: 3, Buy, cp\", \"period: 3, Buy, zero_cp\", \"period: 3, Ask, cp\", \"period: 3, Ask, zero_cp\", \"period: 3, Sell, cp\", \"period: 3, Sell, zero_cp\"], \"line\": {\"color\": \"forestgreen\", \"width\": 2}, \"mode\": \"lines+markers\", \"type\": \"scatter\", \"x\": [0, 1, 2, 3, 4, 5, 6, 7, 8, 9, 10, 11, 12, 13, 14, 15, 16, 17, 18, 19, 20, 21, 22, 23], \"xaxis\": \"x\", \"y\": [1.0, 0.25, -1.0, -1.0, -1.0, -1.0, -1.0, -1.0, -1.0, -1.0, -1.0, -1.0, 0.0, 1.0, 0.0, 1.0, -1.0, -1.0, -1.0, -1.0, 0.0, 1.0, -1.0, -1.0], \"yaxis\": \"y\"}, {\"line\": {\"color\": \"royalblue\", \"width\": 2}, \"mode\": \"lines\", \"type\": \"scatter\", \"x\": [0, 1, 2, 3, 4, 5, 6, 7, 8, 9, 10, 11, 12, 13, 14, 15, 16, 17, 18, 19, 20, 21, 22, 23], \"xaxis\": \"x\", \"y\": [0.0, 0.0, 0.0, 0.0, 0.0, 0.0, 0.0, 0.0, 0.0, 0.0, 0.0, 0.0, 0.0, 0.0, 0.0, 0.0, 0.0, 0.0, 0.0, 0.0, 0.0, 0.0, 0.0, 0.0], \"yaxis\": \"y\"}, {\"hovertext\": [\"period: 1, Bid, cp\", \"period: 1, Bid, zero_cp\", \"period: 1, Buy, cp\", \"period: 1, Buy, zero_cp\", \"period: 1, Ask, cp\", \"period: 1, Ask, zero_cp\", \"period: 1, Sell, cp\", \"period: 1, Sell, zero_cp\", \"period: 2, Bid, cp\", \"period: 2, Bid, zero_cp\", \"period: 2, Buy, cp\", \"period: 2, Buy, zero_cp\", \"period: 2, Ask, cp\", \"period: 2, Ask, zero_cp\", \"period: 2, Sell, cp\", \"period: 2, Sell, zero_cp\", \"period: 3, Bid, cp\", \"period: 3, Bid, zero_cp\", \"period: 3, Buy, cp\", \"period: 3, Buy, zero_cp\", \"period: 3, Ask, cp\", \"period: 3, Ask, zero_cp\", \"period: 3, Sell, cp\", \"period: 3, Sell, zero_cp\"], \"line\": {\"color\": \"forestgreen\", \"width\": 2}, \"mode\": \"lines+markers\", \"type\": \"scatter\", \"x\": [0, 1, 2, 3, 4, 5, 6, 7, 8, 9, 10, 11, 12, 13, 14, 15, 16, 17, 18, 19, 20, 21, 22, 23], \"xaxis\": \"x2\", \"y\": [1.0, 0.0, 1.0, 0.0, 0.0, 1.0, -1.0, -1.0, -1.0, -1.0, -1.0, -1.0, -1.0, -1.0, 0.0, 1.0, -1.0, -1.0, -1.0, -1.0, -1.0, -1.0, -1.0, -1.0], \"yaxis\": \"y2\"}, {\"line\": {\"color\": \"royalblue\", \"width\": 2}, \"mode\": \"lines\", \"type\": \"scatter\", \"x\": [0, 1, 2, 3, 4, 5, 6, 7, 8, 9, 10, 11, 12, 13, 14, 15, 16, 17, 18, 19, 20, 21, 22, 23], \"xaxis\": \"x2\", \"y\": [0.0, 0.0, 0.0, 0.0, 0.0, 0.0, 0.0, 0.0, 0.0, 0.0, 0.0, 0.0, 0.0, 0.0, 0.0, 0.0, 0.0, 0.0, 0.0, 0.0, 0.0, 0.0, 0.0, 0.0], \"yaxis\": \"y2\"}, {\"hovertext\": [\"period: 1, Bid, cp\", \"period: 1, Bid, zero_cp\", \"period: 1, Buy, cp\", \"period: 1, Buy, zero_cp\", \"period: 1, Ask, cp\", \"period: 1, Ask, zero_cp\", \"period: 1, Sell, cp\", \"period: 1, Sell, zero_cp\", \"period: 2, Bid, cp\", \"period: 2, Bid, zero_cp\", \"period: 2, Buy, cp\", \"period: 2, Buy, zero_cp\", \"period: 2, Ask, cp\", \"period: 2, Ask, zero_cp\", \"period: 2, Sell, cp\", \"period: 2, Sell, zero_cp\", \"period: 3, Bid, cp\", \"period: 3, Bid, zero_cp\", \"period: 3, Buy, cp\", \"period: 3, Buy, zero_cp\", \"period: 3, Ask, cp\", \"period: 3, Ask, zero_cp\", \"period: 3, Sell, cp\", \"period: 3, Sell, zero_cp\"], \"line\": {\"color\": \"forestgreen\", \"width\": 2}, \"mode\": \"lines+markers\", \"type\": \"scatter\", \"x\": [0, 1, 2, 3, 4, 5, 6, 7, 8, 9, 10, 11, 12, 13, 14, 15, 16, 17, 18, 19, 20, 21, 22, 23], \"xaxis\": \"x3\", \"y\": [1.0, 1.0, -1.0, -1.0, 0.0, 1.0, -1.0, -1.0, 1.0, 0.0, 1.0, 0.0, 0.0, 1.0, -1.0, -1.0, 1.0, 0.0, -1.0, -1.0, -1.0, -1.0, -1.0, -1.0], \"yaxis\": \"y3\"}, {\"line\": {\"color\": \"royalblue\", \"width\": 2}, \"mode\": \"lines\", \"type\": \"scatter\", \"x\": [0, 1, 2, 3, 4, 5, 6, 7, 8, 9, 10, 11, 12, 13, 14, 15, 16, 17, 18, 19, 20, 21, 22, 23], \"xaxis\": \"x3\", \"y\": [0.0, 0.0, 0.0, 0.0, 0.0, 0.0, 0.0, 0.0, 0.0, 0.0, 0.0, 0.0, 0.0, 0.0, 0.0, 0.0, 0.0, 0.0, 0.0, 0.0, 0.0, 0.0, 0.0, 0.0], \"yaxis\": \"y3\"}, {\"hovertext\": [\"period: 1, Bid, cp\", \"period: 1, Bid, zero_cp\", \"period: 1, Buy, cp\", \"period: 1, Buy, zero_cp\", \"period: 1, Ask, cp\", \"period: 1, Ask, zero_cp\", \"period: 1, Sell, cp\", \"period: 1, Sell, zero_cp\", \"period: 2, Bid, cp\", \"period: 2, Bid, zero_cp\", \"period: 2, Buy, cp\", \"period: 2, Buy, zero_cp\", \"period: 2, Ask, cp\", \"period: 2, Ask, zero_cp\", \"period: 2, Sell, cp\", \"period: 2, Sell, zero_cp\", \"period: 3, Bid, cp\", \"period: 3, Bid, zero_cp\", \"period: 3, Buy, cp\", \"period: 3, Buy, zero_cp\", \"period: 3, Ask, cp\", \"period: 3, Ask, zero_cp\", \"period: 3, Sell, cp\", \"period: 3, Sell, zero_cp\"], \"line\": {\"color\": \"forestgreen\", \"width\": 2}, \"mode\": \"lines+markers\", \"type\": \"scatter\", \"x\": [0, 1, 2, 3, 4, 5, 6, 7, 8, 9, 10, 11, 12, 13, 14, 15, 16, 17, 18, 19, 20, 21, 22, 23], \"xaxis\": \"x4\", \"y\": [-1.0, -1.0, -1.0, -1.0, -1.0, -1.0, -1.0, -1.0, -1.0, -1.0, 1.0, 0.0, 0.0, 1.0, -1.0, -1.0, -1.0, -1.0, -1.0, -1.0, 0.0, 1.0, -1.0, -1.0], \"yaxis\": \"y4\"}, {\"line\": {\"color\": \"royalblue\", \"width\": 2}, \"mode\": \"lines\", \"type\": \"scatter\", \"x\": [0, 1, 2, 3, 4, 5, 6, 7, 8, 9, 10, 11, 12, 13, 14, 15, 16, 17, 18, 19, 20, 21, 22, 23], \"xaxis\": \"x4\", \"y\": [0.0, 0.0, 0.0, 0.0, 0.0, 0.0, 0.0, 0.0, 0.0, 0.0, 0.0, 0.0, 0.0, 0.0, 0.0, 0.0, 0.0, 0.0, 0.0, 0.0, 0.0, 0.0, 0.0, 0.0], \"yaxis\": \"y4\"}, {\"hovertext\": [\"period: 1, Bid, cp\", \"period: 1, Bid, zero_cp\", \"period: 1, Buy, cp\", \"period: 1, Buy, zero_cp\", \"period: 1, Ask, cp\", \"period: 1, Ask, zero_cp\", \"period: 1, Sell, cp\", \"period: 1, Sell, zero_cp\", \"period: 2, Bid, cp\", \"period: 2, Bid, zero_cp\", \"period: 2, Buy, cp\", \"period: 2, Buy, zero_cp\", \"period: 2, Ask, cp\", \"period: 2, Ask, zero_cp\", \"period: 2, Sell, cp\", \"period: 2, Sell, zero_cp\", \"period: 3, Bid, cp\", \"period: 3, Bid, zero_cp\", \"period: 3, Buy, cp\", \"period: 3, Buy, zero_cp\", \"period: 3, Ask, cp\", \"period: 3, Ask, zero_cp\", \"period: 3, Sell, cp\", \"period: 3, Sell, zero_cp\"], \"line\": {\"color\": \"forestgreen\", \"width\": 2}, \"mode\": \"lines+markers\", \"type\": \"scatter\", \"x\": [0, 1, 2, 3, 4, 5, 6, 7, 8, 9, 10, 11, 12, 13, 14, 15, 16, 17, 18, 19, 20, 21, 22, 23], \"xaxis\": \"x5\", \"y\": [1.0, 0.0, -1.0, -1.0, -1.0, -1.0, -1.0, -1.0, 1.0, 0.0, -1.0, -1.0, 0.0, 1.0, 0.0, 1.0, -1.0, -1.0, -1.0, -1.0, 0.0, 1.0, -1.0, -1.0], \"yaxis\": \"y5\"}, {\"line\": {\"color\": \"royalblue\", \"width\": 2}, \"mode\": \"lines\", \"type\": \"scatter\", \"x\": [0, 1, 2, 3, 4, 5, 6, 7, 8, 9, 10, 11, 12, 13, 14, 15, 16, 17, 18, 19, 20, 21, 22, 23], \"xaxis\": \"x5\", \"y\": [0.0, 0.0, 0.0, 0.0, 0.0, 0.0, 0.0, 0.0, 0.0, 0.0, 0.0, 0.0, 0.0, 0.0, 0.0, 0.0, 0.0, 0.0, 0.0, 0.0, 0.0, 0.0, 0.0, 0.0], \"yaxis\": \"y5\"}, {\"hovertext\": [\"period: 1, Bid, cp\", \"period: 1, Bid, zero_cp\", \"period: 1, Buy, cp\", \"period: 1, Buy, zero_cp\", \"period: 1, Ask, cp\", \"period: 1, Ask, zero_cp\", \"period: 1, Sell, cp\", \"period: 1, Sell, zero_cp\", \"period: 2, Bid, cp\", \"period: 2, Bid, zero_cp\", \"period: 2, Buy, cp\", \"period: 2, Buy, zero_cp\", \"period: 2, Ask, cp\", \"period: 2, Ask, zero_cp\", \"period: 2, Sell, cp\", \"period: 2, Sell, zero_cp\", \"period: 3, Bid, cp\", \"period: 3, Bid, zero_cp\", \"period: 3, Buy, cp\", \"period: 3, Buy, zero_cp\", \"period: 3, Ask, cp\", \"period: 3, Ask, zero_cp\", \"period: 3, Sell, cp\", \"period: 3, Sell, zero_cp\"], \"line\": {\"color\": \"forestgreen\", \"width\": 2}, \"mode\": \"lines+markers\", \"type\": \"scatter\", \"x\": [0, 1, 2, 3, 4, 5, 6, 7, 8, 9, 10, 11, 12, 13, 14, 15, 16, 17, 18, 19, 20, 21, 22, 23], \"xaxis\": \"x6\", \"y\": [1.0, 0.0, -1.0, -1.0, 0.0, 1.0, -1.0, -1.0, 1.0, 0.0, 1.0, 0.0, 0.0, 1.0, 0.0, 1.0, 1.0, 0.0, -1.0, -1.0, 0.0, 1.0, -1.0, -1.0], \"yaxis\": \"y6\"}, {\"line\": {\"color\": \"royalblue\", \"width\": 2}, \"mode\": \"lines\", \"type\": \"scatter\", \"x\": [0, 1, 2, 3, 4, 5, 6, 7, 8, 9, 10, 11, 12, 13, 14, 15, 16, 17, 18, 19, 20, 21, 22, 23], \"xaxis\": \"x6\", \"y\": [0.0, 0.0, 0.0, 0.0, 0.0, 0.0, 0.0, 0.0, 0.0, 0.0, 0.0, 0.0, 0.0, 0.0, 0.0, 0.0, 0.0, 0.0, 0.0, 0.0, 0.0, 0.0, 0.0, 0.0], \"yaxis\": \"y6\"}, {\"hovertext\": [\"period: 1, Bid, cp\", \"period: 1, Bid, zero_cp\", \"period: 1, Buy, cp\", \"period: 1, Buy, zero_cp\", \"period: 1, Ask, cp\", \"period: 1, Ask, zero_cp\", \"period: 1, Sell, cp\", \"period: 1, Sell, zero_cp\", \"period: 2, Bid, cp\", \"period: 2, Bid, zero_cp\", \"period: 2, Buy, cp\", \"period: 2, Buy, zero_cp\", \"period: 2, Ask, cp\", \"period: 2, Ask, zero_cp\", \"period: 2, Sell, cp\", \"period: 2, Sell, zero_cp\", \"period: 3, Bid, cp\", \"period: 3, Bid, zero_cp\", \"period: 3, Buy, cp\", \"period: 3, Buy, zero_cp\", \"period: 3, Ask, cp\", \"period: 3, Ask, zero_cp\", \"period: 3, Sell, cp\", \"period: 3, Sell, zero_cp\"], \"line\": {\"color\": \"forestgreen\", \"width\": 2}, \"mode\": \"lines+markers\", \"type\": \"scatter\", \"x\": [0, 1, 2, 3, 4, 5, 6, 7, 8, 9, 10, 11, 12, 13, 14, 15, 16, 17, 18, 19, 20, 21, 22, 23], \"xaxis\": \"x7\", \"y\": [1.0, 1.0, -1.0, -1.0, 0.0, 1.0, -1.0, -1.0, -1.0, -1.0, -1.0, -1.0, 0.0, 1.0, -1.0, -1.0, 1.0, 1.0, -1.0, -1.0, -1.0, -1.0, -1.0, -1.0], \"yaxis\": \"y7\"}, {\"line\": {\"color\": \"royalblue\", \"width\": 2}, \"mode\": \"lines\", \"type\": \"scatter\", \"x\": [0, 1, 2, 3, 4, 5, 6, 7, 8, 9, 10, 11, 12, 13, 14, 15, 16, 17, 18, 19, 20, 21, 22, 23], \"xaxis\": \"x7\", \"y\": [0.0, 0.0, 0.0, 0.0, 0.0, 0.0, 0.0, 0.0, 0.0, 0.0, 0.0, 0.0, 0.0, 0.0, 0.0, 0.0, 0.0, 0.0, 0.0, 0.0, 0.0, 0.0, 0.0, 0.0], \"yaxis\": \"y7\"}, {\"hovertext\": [\"period: 1, Bid, cp\", \"period: 1, Bid, zero_cp\", \"period: 1, Buy, cp\", \"period: 1, Buy, zero_cp\", \"period: 1, Ask, cp\", \"period: 1, Ask, zero_cp\", \"period: 1, Sell, cp\", \"period: 1, Sell, zero_cp\", \"period: 2, Bid, cp\", \"period: 2, Bid, zero_cp\", \"period: 2, Buy, cp\", \"period: 2, Buy, zero_cp\", \"period: 2, Ask, cp\", \"period: 2, Ask, zero_cp\", \"period: 2, Sell, cp\", \"period: 2, Sell, zero_cp\", \"period: 3, Bid, cp\", \"period: 3, Bid, zero_cp\", \"period: 3, Buy, cp\", \"period: 3, Buy, zero_cp\", \"period: 3, Ask, cp\", \"period: 3, Ask, zero_cp\", \"period: 3, Sell, cp\", \"period: 3, Sell, zero_cp\"], \"line\": {\"color\": \"forestgreen\", \"width\": 2}, \"mode\": \"lines+markers\", \"type\": \"scatter\", \"x\": [0, 1, 2, 3, 4, 5, 6, 7, 8, 9, 10, 11, 12, 13, 14, 15, 16, 17, 18, 19, 20, 21, 22, 23], \"xaxis\": \"x8\", \"y\": [1.0, 0.0, 1.0, 0.0, 0.0, 0.0, 0.0, 1.0, -1.0, -1.0, 1.0, 0.0, -1.0, -1.0, 0.0, 0.83, -1.0, -1.0, 1.0, 0.0, -1.0, -1.0, 0.0, 1.0], \"yaxis\": \"y8\"}, {\"line\": {\"color\": \"royalblue\", \"width\": 2}, \"mode\": \"lines\", \"type\": \"scatter\", \"x\": [0, 1, 2, 3, 4, 5, 6, 7, 8, 9, 10, 11, 12, 13, 14, 15, 16, 17, 18, 19, 20, 21, 22, 23], \"xaxis\": \"x8\", \"y\": [0.0, 0.0, 0.0, 0.0, 0.0, 0.0, 0.0, 0.0, 0.0, 0.0, 0.0, 0.0, 0.0, 0.0, 0.0, 0.0, 0.0, 0.0, 0.0, 0.0, 0.0, 0.0, 0.0, 0.0], \"yaxis\": \"y8\"}, {\"hovertext\": [\"period: 1, Bid, cp\", \"period: 1, Bid, zero_cp\", \"period: 1, Buy, cp\", \"period: 1, Buy, zero_cp\", \"period: 1, Ask, cp\", \"period: 1, Ask, zero_cp\", \"period: 1, Sell, cp\", \"period: 1, Sell, zero_cp\", \"period: 2, Bid, cp\", \"period: 2, Bid, zero_cp\", \"period: 2, Buy, cp\", \"period: 2, Buy, zero_cp\", \"period: 2, Ask, cp\", \"period: 2, Ask, zero_cp\", \"period: 2, Sell, cp\", \"period: 2, Sell, zero_cp\", \"period: 3, Bid, cp\", \"period: 3, Bid, zero_cp\", \"period: 3, Buy, cp\", \"period: 3, Buy, zero_cp\", \"period: 3, Ask, cp\", \"period: 3, Ask, zero_cp\", \"period: 3, Sell, cp\", \"period: 3, Sell, zero_cp\"], \"line\": {\"color\": \"forestgreen\", \"width\": 2}, \"mode\": \"lines+markers\", \"type\": \"scatter\", \"x\": [0, 1, 2, 3, 4, 5, 6, 7, 8, 9, 10, 11, 12, 13, 14, 15, 16, 17, 18, 19, 20, 21, 22, 23], \"xaxis\": \"x9\", \"y\": [0.31, 0.31, 1.0, 0.0, -1.0, -1.0, -1.0, -1.0, 1.0, 0.0, -1.0, -1.0, -1.0, -1.0, -1.0, -1.0, -1.0, -1.0, -1.0, -1.0, -1.0, -1.0, -1.0, -1.0], \"yaxis\": \"y9\"}, {\"line\": {\"color\": \"royalblue\", \"width\": 2}, \"mode\": \"lines\", \"type\": \"scatter\", \"x\": [0, 1, 2, 3, 4, 5, 6, 7, 8, 9, 10, 11, 12, 13, 14, 15, 16, 17, 18, 19, 20, 21, 22, 23], \"xaxis\": \"x9\", \"y\": [0.0, 0.0, 0.0, 0.0, 0.0, 0.0, 0.0, 0.0, 0.0, 0.0, 0.0, 0.0, 0.0, 0.0, 0.0, 0.0, 0.0, 0.0, 0.0, 0.0, 0.0, 0.0, 0.0, 0.0], \"yaxis\": \"y9\"}, {\"hovertext\": [\"period: 1, Bid, cp\", \"period: 1, Bid, zero_cp\", \"period: 1, Buy, cp\", \"period: 1, Buy, zero_cp\", \"period: 1, Ask, cp\", \"period: 1, Ask, zero_cp\", \"period: 1, Sell, cp\", \"period: 1, Sell, zero_cp\", \"period: 2, Bid, cp\", \"period: 2, Bid, zero_cp\", \"period: 2, Buy, cp\", \"period: 2, Buy, zero_cp\", \"period: 2, Ask, cp\", \"period: 2, Ask, zero_cp\", \"period: 2, Sell, cp\", \"period: 2, Sell, zero_cp\", \"period: 3, Bid, cp\", \"period: 3, Bid, zero_cp\", \"period: 3, Buy, cp\", \"period: 3, Buy, zero_cp\", \"period: 3, Ask, cp\", \"period: 3, Ask, zero_cp\", \"period: 3, Sell, cp\", \"period: 3, Sell, zero_cp\"], \"line\": {\"color\": \"forestgreen\", \"width\": 2}, \"mode\": \"lines+markers\", \"type\": \"scatter\", \"x\": [0, 1, 2, 3, 4, 5, 6, 7, 8, 9, 10, 11, 12, 13, 14, 15, 16, 17, 18, 19, 20, 21, 22, 23], \"xaxis\": \"x10\", \"y\": [1.0, 0.0, -1.0, -1.0, 0.0, 1.0, -1.0, -1.0, 1.0, 0.61, -1.0, -1.0, -1.0, -1.0, -1.0, -1.0, -1.0, -1.0, -1.0, -1.0, -1.0, -1.0, -1.0, -1.0], \"yaxis\": \"y10\"}, {\"line\": {\"color\": \"royalblue\", \"width\": 2}, \"mode\": \"lines\", \"type\": \"scatter\", \"x\": [0, 1, 2, 3, 4, 5, 6, 7, 8, 9, 10, 11, 12, 13, 14, 15, 16, 17, 18, 19, 20, 21, 22, 23], \"xaxis\": \"x10\", \"y\": [0.0, 0.0, 0.0, 0.0, 0.0, 0.0, 0.0, 0.0, 0.0, 0.0, 0.0, 0.0, 0.0, 0.0, 0.0, 0.0, 0.0, 0.0, 0.0, 0.0, 0.0, 0.0, 0.0, 0.0], \"yaxis\": \"y10\"}, {\"hovertext\": [\"period: 1, Bid, cp\", \"period: 1, Bid, zero_cp\", \"period: 1, Buy, cp\", \"period: 1, Buy, zero_cp\", \"period: 1, Ask, cp\", \"period: 1, Ask, zero_cp\", \"period: 1, Sell, cp\", \"period: 1, Sell, zero_cp\", \"period: 2, Bid, cp\", \"period: 2, Bid, zero_cp\", \"period: 2, Buy, cp\", \"period: 2, Buy, zero_cp\", \"period: 2, Ask, cp\", \"period: 2, Ask, zero_cp\", \"period: 2, Sell, cp\", \"period: 2, Sell, zero_cp\", \"period: 3, Bid, cp\", \"period: 3, Bid, zero_cp\", \"period: 3, Buy, cp\", \"period: 3, Buy, zero_cp\", \"period: 3, Ask, cp\", \"period: 3, Ask, zero_cp\", \"period: 3, Sell, cp\", \"period: 3, Sell, zero_cp\"], \"line\": {\"color\": \"forestgreen\", \"width\": 2}, \"mode\": \"lines+markers\", \"type\": \"scatter\", \"x\": [0, 1, 2, 3, 4, 5, 6, 7, 8, 9, 10, 11, 12, 13, 14, 15, 16, 17, 18, 19, 20, 21, 22, 23], \"xaxis\": \"x11\", \"y\": [-1.0, -1.0, -1.0, -1.0, 0.0, 1.0, 0.0, 1.0, 1.0, 0.67, -1.0, -1.0, 1.0, 1.0, -1.0, -1.0, 1.0, 1.0, -1.0, -1.0, -1.0, -1.0, -1.0, -1.0], \"yaxis\": \"y11\"}, {\"line\": {\"color\": \"royalblue\", \"width\": 2}, \"mode\": \"lines\", \"type\": \"scatter\", \"x\": [0, 1, 2, 3, 4, 5, 6, 7, 8, 9, 10, 11, 12, 13, 14, 15, 16, 17, 18, 19, 20, 21, 22, 23], \"xaxis\": \"x11\", \"y\": [0.0, 0.0, 0.0, 0.0, 0.0, 0.0, 0.0, 0.0, 0.0, 0.0, 0.0, 0.0, 0.0, 0.0, 0.0, 0.0, 0.0, 0.0, 0.0, 0.0, 0.0, 0.0, 0.0, 0.0], \"yaxis\": \"y11\"}, {\"hovertext\": [\"period: 1, Bid, cp\", \"period: 1, Bid, zero_cp\", \"period: 1, Buy, cp\", \"period: 1, Buy, zero_cp\", \"period: 1, Ask, cp\", \"period: 1, Ask, zero_cp\", \"period: 1, Sell, cp\", \"period: 1, Sell, zero_cp\", \"period: 2, Bid, cp\", \"period: 2, Bid, zero_cp\", \"period: 2, Buy, cp\", \"period: 2, Buy, zero_cp\", \"period: 2, Ask, cp\", \"period: 2, Ask, zero_cp\", \"period: 2, Sell, cp\", \"period: 2, Sell, zero_cp\", \"period: 3, Bid, cp\", \"period: 3, Bid, zero_cp\", \"period: 3, Buy, cp\", \"period: 3, Buy, zero_cp\", \"period: 3, Ask, cp\", \"period: 3, Ask, zero_cp\", \"period: 3, Sell, cp\", \"period: 3, Sell, zero_cp\"], \"line\": {\"color\": \"forestgreen\", \"width\": 2}, \"mode\": \"lines+markers\", \"type\": \"scatter\", \"x\": [0, 1, 2, 3, 4, 5, 6, 7, 8, 9, 10, 11, 12, 13, 14, 15, 16, 17, 18, 19, 20, 21, 22, 23], \"xaxis\": \"x12\", \"y\": [-1.0, -1.0, -1.0, -1.0, 0.0, 1.0, -1.0, -1.0, -1.0, -1.0, -1.0, -1.0, 0.0, 1.0, -1.0, -1.0, -1.0, -1.0, -1.0, -1.0, 0.0, 1.0, 0.0, 1.0], \"yaxis\": \"y12\"}, {\"line\": {\"color\": \"royalblue\", \"width\": 2}, \"mode\": \"lines\", \"type\": \"scatter\", \"x\": [0, 1, 2, 3, 4, 5, 6, 7, 8, 9, 10, 11, 12, 13, 14, 15, 16, 17, 18, 19, 20, 21, 22, 23], \"xaxis\": \"x12\", \"y\": [0.0, 0.0, 0.0, 0.0, 0.0, 0.0, 0.0, 0.0, 0.0, 0.0, 0.0, 0.0, 0.0, 0.0, 0.0, 0.0, 0.0, 0.0, 0.0, 0.0, 0.0, 0.0, 0.0, 0.0], \"yaxis\": \"y12\"}, {\"hovertext\": [\"period: 1, Bid, cp\", \"period: 1, Bid, zero_cp\", \"period: 1, Buy, cp\", \"period: 1, Buy, zero_cp\", \"period: 1, Ask, cp\", \"period: 1, Ask, zero_cp\", \"period: 1, Sell, cp\", \"period: 1, Sell, zero_cp\", \"period: 2, Bid, cp\", \"period: 2, Bid, zero_cp\", \"period: 2, Buy, cp\", \"period: 2, Buy, zero_cp\", \"period: 2, Ask, cp\", \"period: 2, Ask, zero_cp\", \"period: 2, Sell, cp\", \"period: 2, Sell, zero_cp\", \"period: 3, Bid, cp\", \"period: 3, Bid, zero_cp\", \"period: 3, Buy, cp\", \"period: 3, Buy, zero_cp\", \"period: 3, Ask, cp\", \"period: 3, Ask, zero_cp\", \"period: 3, Sell, cp\", \"period: 3, Sell, zero_cp\"], \"line\": {\"color\": \"forestgreen\", \"width\": 2}, \"mode\": \"lines+markers\", \"type\": \"scatter\", \"x\": [0, 1, 2, 3, 4, 5, 6, 7, 8, 9, 10, 11, 12, 13, 14, 15, 16, 17, 18, 19, 20, 21, 22, 23], \"xaxis\": \"x13\", \"y\": [1.0, 0.0, -1.0, -1.0, -1.0, -1.0, -1.0, -1.0, 1.0, 0.33, 1.0, 1.0, -1.0, -1.0, -1.0, -1.0, 1.0, 0.2, 1.0, 0.0, -1.0, -1.0, -1.0, -1.0], \"yaxis\": \"y13\"}, {\"line\": {\"color\": \"royalblue\", \"width\": 2}, \"mode\": \"lines\", \"type\": \"scatter\", \"x\": [0, 1, 2, 3, 4, 5, 6, 7, 8, 9, 10, 11, 12, 13, 14, 15, 16, 17, 18, 19, 20, 21, 22, 23], \"xaxis\": \"x13\", \"y\": [0.0, 0.0, 0.0, 0.0, 0.0, 0.0, 0.0, 0.0, 0.0, 0.0, 0.0, 0.0, 0.0, 0.0, 0.0, 0.0, 0.0, 0.0, 0.0, 0.0, 0.0, 0.0, 0.0, 0.0], \"yaxis\": \"y13\"}, {\"hovertext\": [\"period: 1, Bid, cp\", \"period: 1, Bid, zero_cp\", \"period: 1, Buy, cp\", \"period: 1, Buy, zero_cp\", \"period: 1, Ask, cp\", \"period: 1, Ask, zero_cp\", \"period: 1, Sell, cp\", \"period: 1, Sell, zero_cp\", \"period: 2, Bid, cp\", \"period: 2, Bid, zero_cp\", \"period: 2, Buy, cp\", \"period: 2, Buy, zero_cp\", \"period: 2, Ask, cp\", \"period: 2, Ask, zero_cp\", \"period: 2, Sell, cp\", \"period: 2, Sell, zero_cp\", \"period: 3, Bid, cp\", \"period: 3, Bid, zero_cp\", \"period: 3, Buy, cp\", \"period: 3, Buy, zero_cp\", \"period: 3, Ask, cp\", \"period: 3, Ask, zero_cp\", \"period: 3, Sell, cp\", \"period: 3, Sell, zero_cp\"], \"line\": {\"color\": \"forestgreen\", \"width\": 2}, \"mode\": \"lines+markers\", \"type\": \"scatter\", \"x\": [0, 1, 2, 3, 4, 5, 6, 7, 8, 9, 10, 11, 12, 13, 14, 15, 16, 17, 18, 19, 20, 21, 22, 23], \"xaxis\": \"x14\", \"y\": [-1.0, -1.0, -1.0, -1.0, 0.0, 1.0, 0.0, 1.0, 1.0, 0.0, -1.0, -1.0, -1.0, -1.0, -1.0, -1.0, -1.0, -1.0, -1.0, -1.0, 0.0, 1.0, 0.0, 1.0], \"yaxis\": \"y14\"}, {\"line\": {\"color\": \"royalblue\", \"width\": 2}, \"mode\": \"lines\", \"type\": \"scatter\", \"x\": [0, 1, 2, 3, 4, 5, 6, 7, 8, 9, 10, 11, 12, 13, 14, 15, 16, 17, 18, 19, 20, 21, 22, 23], \"xaxis\": \"x14\", \"y\": [0.0, 0.0, 0.0, 0.0, 0.0, 0.0, 0.0, 0.0, 0.0, 0.0, 0.0, 0.0, 0.0, 0.0, 0.0, 0.0, 0.0, 0.0, 0.0, 0.0, 0.0, 0.0, 0.0, 0.0], \"yaxis\": \"y14\"}, {\"hovertext\": [\"period: 1, Bid, cp\", \"period: 1, Bid, zero_cp\", \"period: 1, Buy, cp\", \"period: 1, Buy, zero_cp\", \"period: 1, Ask, cp\", \"period: 1, Ask, zero_cp\", \"period: 1, Sell, cp\", \"period: 1, Sell, zero_cp\", \"period: 2, Bid, cp\", \"period: 2, Bid, zero_cp\", \"period: 2, Buy, cp\", \"period: 2, Buy, zero_cp\", \"period: 2, Ask, cp\", \"period: 2, Ask, zero_cp\", \"period: 2, Sell, cp\", \"period: 2, Sell, zero_cp\", \"period: 3, Bid, cp\", \"period: 3, Bid, zero_cp\", \"period: 3, Buy, cp\", \"period: 3, Buy, zero_cp\", \"period: 3, Ask, cp\", \"period: 3, Ask, zero_cp\", \"period: 3, Sell, cp\", \"period: 3, Sell, zero_cp\"], \"line\": {\"color\": \"forestgreen\", \"width\": 2}, \"mode\": \"lines+markers\", \"type\": \"scatter\", \"x\": [0, 1, 2, 3, 4, 5, 6, 7, 8, 9, 10, 11, 12, 13, 14, 15, 16, 17, 18, 19, 20, 21, 22, 23], \"xaxis\": \"x15\", \"y\": [1.0, 0.2, 1.0, 0.0, 0.16, 0.2, 0.0, 1.0, 1.0, 0.33, 1.0, 0.0, 0.29, 0.29, 0.0, 1.0, 1.0, 0.0, 1.0, 0.0, 0.75, 1.0, 0.0, 1.0], \"yaxis\": \"y15\"}, {\"line\": {\"color\": \"royalblue\", \"width\": 2}, \"mode\": \"lines\", \"type\": \"scatter\", \"x\": [0, 1, 2, 3, 4, 5, 6, 7, 8, 9, 10, 11, 12, 13, 14, 15, 16, 17, 18, 19, 20, 21, 22, 23], \"xaxis\": \"x15\", \"y\": [0.0, 0.0, 0.0, 0.0, 0.0, 0.0, 0.0, 0.0, 0.0, 0.0, 0.0, 0.0, 0.0, 0.0, 0.0, 0.0, 0.0, 0.0, 0.0, 0.0, 0.0, 0.0, 0.0, 0.0], \"yaxis\": \"y15\"}],\n",
       "                        {\"annotations\": [{\"font\": {\"size\": 16}, \"showarrow\": false, \"text\": \"\\u0421\\u0430\\u0442\\u0442\\u0430\\u0440\\u043e\\u0432\", \"x\": 0.225, \"xanchor\": \"center\", \"xref\": \"paper\", \"y\": 1.0, \"yanchor\": \"bottom\", \"yref\": \"paper\"}, {\"font\": {\"size\": 16}, \"showarrow\": false, \"text\": \"\\u0418\\u0433\\u043d\\u0430\\u0442\\u044c\\u0435\\u0432\", \"x\": 0.775, \"xanchor\": \"center\", \"xref\": \"paper\", \"y\": 1.0, \"yanchor\": \"bottom\", \"yref\": \"paper\"}, {\"font\": {\"size\": 16}, \"showarrow\": false, \"text\": \"\\u041d\\u0430\\u0441\\u0435\\u0434\\u043a\\u0438\\u043d\", \"x\": 0.225, \"xanchor\": \"center\", \"xref\": \"paper\", \"y\": 0.8671875, \"yanchor\": \"bottom\", \"yref\": \"paper\"}, {\"font\": {\"size\": 16}, \"showarrow\": false, \"text\": \"\\u0410\\u0439\\u0442\\u044b\\u0433\\u0443\\u043b\\u043e\\u0432\", \"x\": 0.775, \"xanchor\": \"center\", \"xref\": \"paper\", \"y\": 0.8671875, \"yanchor\": \"bottom\", \"yref\": \"paper\"}, {\"font\": {\"size\": 16}, \"showarrow\": false, \"text\": \"\\u0428\\u0442\\u044b\\u0445\\u043b\\u0438\\u043d\\u0430\", \"x\": 0.225, \"xanchor\": \"center\", \"xref\": \"paper\", \"y\": 0.734375, \"yanchor\": \"bottom\", \"yref\": \"paper\"}, {\"font\": {\"size\": 16}, \"showarrow\": false, \"text\": \"\\u0413\\u0430\\u0439\\u0432\\u043e\\u0440\\u043e\\u043d\\u0441\\u043a\\u0438\\u0439\", \"x\": 0.775, \"xanchor\": \"center\", \"xref\": \"paper\", \"y\": 0.734375, \"yanchor\": \"bottom\", \"yref\": \"paper\"}, {\"font\": {\"size\": 16}, \"showarrow\": false, \"text\": \"\\u0422\\u0435\\u0440\\u0435\\u043d\\u0442\\u044c\\u0435\\u0432\\u0430 \\u041c\\u0430\\u0440\\u0438\\u044f\", \"x\": 0.225, \"xanchor\": \"center\", \"xref\": \"paper\", \"y\": 0.6015625, \"yanchor\": \"bottom\", \"yref\": \"paper\"}, {\"font\": {\"size\": 16}, \"showarrow\": false, \"text\": \"\\u0422\\u0435\\u0440\\u0435\\u043d\\u0442\\u044c\\u0435\\u0432\\u0430 \\u0410\\u043b\\u0435\\u043a\\u0441\\u0430\\u043d\\u0434\\u0440\\u0430\", \"x\": 0.775, \"xanchor\": \"center\", \"xref\": \"paper\", \"y\": 0.6015625, \"yanchor\": \"bottom\", \"yref\": \"paper\"}, {\"font\": {\"size\": 16}, \"showarrow\": false, \"text\": \"\\u0413\\u043e\\u0440\\u0448\\u043a\\u043e\", \"x\": 0.225, \"xanchor\": \"center\", \"xref\": \"paper\", \"y\": 0.46875, \"yanchor\": \"bottom\", \"yref\": \"paper\"}, {\"font\": {\"size\": 16}, \"showarrow\": false, \"text\": \"\\u0413\\u0430\\u043b\\u0438\\u043d\\u0433\\u0435\\u0440 \\u0410\\u043b\\u0435\\u043a\\u0441\\u0430\\u043d\\u0434\\u0440\", \"x\": 0.775, \"xanchor\": \"center\", \"xref\": \"paper\", \"y\": 0.46875, \"yanchor\": \"bottom\", \"yref\": \"paper\"}, {\"font\": {\"size\": 16}, \"showarrow\": false, \"text\": \"\\u0415\\u043b\\u0441\\u0443\\u043a\\u043e\\u0432\", \"x\": 0.225, \"xanchor\": \"center\", \"xref\": \"paper\", \"y\": 0.3359375, \"yanchor\": \"bottom\", \"yref\": \"paper\"}, {\"font\": {\"size\": 16}, \"showarrow\": false, \"text\": \"\\u041c\\u0443\\u0441\\u0442\\u0430\\u0444\\u0438\\u043d\", \"x\": 0.775, \"xanchor\": \"center\", \"xref\": \"paper\", \"y\": 0.3359375, \"yanchor\": \"bottom\", \"yref\": \"paper\"}, {\"font\": {\"size\": 16}, \"showarrow\": false, \"text\": \"\\u041a\\u043e\\u043b\\u0447\\u0438\\u043d\\u0441\\u043a\\u0438\\u0439\", \"x\": 0.225, \"xanchor\": \"center\", \"xref\": \"paper\", \"y\": 0.203125, \"yanchor\": \"bottom\", \"yref\": \"paper\"}, {\"font\": {\"size\": 16}, \"showarrow\": false, \"text\": \"\\u041e\\u0441\\u0438\\u043f\\u043a\\u0438\\u043d\\u0430\", \"x\": 0.775, \"xanchor\": \"center\", \"xref\": \"paper\", \"y\": 0.203125, \"yanchor\": \"bottom\", \"yref\": \"paper\"}, {\"font\": {\"size\": 16}, \"showarrow\": false, \"text\": \"\\u0423\\u0441\\u0442\\u0438\\u043d\\u043e\\u0432\\u0430\", \"x\": 0.225, \"xanchor\": \"center\", \"xref\": \"paper\", \"y\": 0.0703125, \"yanchor\": \"bottom\", \"yref\": \"paper\"}], \"height\": 1600, \"showlegend\": false, \"template\": {\"data\": {\"bar\": [{\"error_x\": {\"color\": \"#2a3f5f\"}, \"error_y\": {\"color\": \"#2a3f5f\"}, \"marker\": {\"line\": {\"color\": \"#E5ECF6\", \"width\": 0.5}}, \"type\": \"bar\"}], \"barpolar\": [{\"marker\": {\"line\": {\"color\": \"#E5ECF6\", \"width\": 0.5}}, \"type\": \"barpolar\"}], \"carpet\": [{\"aaxis\": {\"endlinecolor\": \"#2a3f5f\", \"gridcolor\": \"white\", \"linecolor\": \"white\", \"minorgridcolor\": \"white\", \"startlinecolor\": \"#2a3f5f\"}, \"baxis\": {\"endlinecolor\": \"#2a3f5f\", \"gridcolor\": \"white\", \"linecolor\": \"white\", \"minorgridcolor\": \"white\", \"startlinecolor\": \"#2a3f5f\"}, \"type\": \"carpet\"}], \"choropleth\": [{\"colorbar\": {\"outlinewidth\": 0, \"ticks\": \"\"}, \"type\": \"choropleth\"}], \"contour\": [{\"colorbar\": {\"outlinewidth\": 0, \"ticks\": \"\"}, \"colorscale\": [[0.0, \"#0d0887\"], [0.1111111111111111, \"#46039f\"], [0.2222222222222222, \"#7201a8\"], [0.3333333333333333, \"#9c179e\"], [0.4444444444444444, \"#bd3786\"], [0.5555555555555556, \"#d8576b\"], [0.6666666666666666, \"#ed7953\"], [0.7777777777777778, \"#fb9f3a\"], [0.8888888888888888, \"#fdca26\"], [1.0, \"#f0f921\"]], \"type\": \"contour\"}], \"contourcarpet\": [{\"colorbar\": {\"outlinewidth\": 0, \"ticks\": \"\"}, \"type\": \"contourcarpet\"}], \"heatmap\": [{\"colorbar\": {\"outlinewidth\": 0, \"ticks\": \"\"}, \"colorscale\": [[0.0, \"#0d0887\"], [0.1111111111111111, \"#46039f\"], [0.2222222222222222, \"#7201a8\"], [0.3333333333333333, \"#9c179e\"], [0.4444444444444444, \"#bd3786\"], [0.5555555555555556, \"#d8576b\"], [0.6666666666666666, \"#ed7953\"], [0.7777777777777778, \"#fb9f3a\"], [0.8888888888888888, \"#fdca26\"], [1.0, \"#f0f921\"]], \"type\": \"heatmap\"}], \"heatmapgl\": [{\"colorbar\": {\"outlinewidth\": 0, \"ticks\": \"\"}, \"colorscale\": [[0.0, \"#0d0887\"], [0.1111111111111111, \"#46039f\"], [0.2222222222222222, \"#7201a8\"], [0.3333333333333333, \"#9c179e\"], [0.4444444444444444, \"#bd3786\"], [0.5555555555555556, \"#d8576b\"], [0.6666666666666666, \"#ed7953\"], [0.7777777777777778, \"#fb9f3a\"], [0.8888888888888888, \"#fdca26\"], [1.0, \"#f0f921\"]], \"type\": \"heatmapgl\"}], \"histogram\": [{\"marker\": {\"colorbar\": {\"outlinewidth\": 0, \"ticks\": \"\"}}, \"type\": \"histogram\"}], \"histogram2d\": [{\"colorbar\": {\"outlinewidth\": 0, \"ticks\": \"\"}, \"colorscale\": [[0.0, \"#0d0887\"], [0.1111111111111111, \"#46039f\"], [0.2222222222222222, \"#7201a8\"], [0.3333333333333333, \"#9c179e\"], [0.4444444444444444, \"#bd3786\"], [0.5555555555555556, \"#d8576b\"], [0.6666666666666666, \"#ed7953\"], [0.7777777777777778, \"#fb9f3a\"], [0.8888888888888888, \"#fdca26\"], [1.0, \"#f0f921\"]], \"type\": \"histogram2d\"}], \"histogram2dcontour\": [{\"colorbar\": {\"outlinewidth\": 0, \"ticks\": \"\"}, \"colorscale\": [[0.0, \"#0d0887\"], [0.1111111111111111, \"#46039f\"], [0.2222222222222222, \"#7201a8\"], [0.3333333333333333, \"#9c179e\"], [0.4444444444444444, \"#bd3786\"], [0.5555555555555556, \"#d8576b\"], [0.6666666666666666, \"#ed7953\"], [0.7777777777777778, \"#fb9f3a\"], [0.8888888888888888, \"#fdca26\"], [1.0, \"#f0f921\"]], \"type\": \"histogram2dcontour\"}], \"mesh3d\": [{\"colorbar\": {\"outlinewidth\": 0, \"ticks\": \"\"}, \"type\": \"mesh3d\"}], \"parcoords\": [{\"line\": {\"colorbar\": {\"outlinewidth\": 0, \"ticks\": \"\"}}, \"type\": \"parcoords\"}], \"pie\": [{\"automargin\": true, \"type\": \"pie\"}], \"scatter\": [{\"marker\": {\"colorbar\": {\"outlinewidth\": 0, \"ticks\": \"\"}}, \"type\": \"scatter\"}], \"scatter3d\": [{\"line\": {\"colorbar\": {\"outlinewidth\": 0, \"ticks\": \"\"}}, \"marker\": {\"colorbar\": {\"outlinewidth\": 0, \"ticks\": \"\"}}, \"type\": \"scatter3d\"}], \"scattercarpet\": [{\"marker\": {\"colorbar\": {\"outlinewidth\": 0, \"ticks\": \"\"}}, \"type\": \"scattercarpet\"}], \"scattergeo\": [{\"marker\": {\"colorbar\": {\"outlinewidth\": 0, \"ticks\": \"\"}}, \"type\": \"scattergeo\"}], \"scattergl\": [{\"marker\": {\"colorbar\": {\"outlinewidth\": 0, \"ticks\": \"\"}}, \"type\": \"scattergl\"}], \"scattermapbox\": [{\"marker\": {\"colorbar\": {\"outlinewidth\": 0, \"ticks\": \"\"}}, \"type\": \"scattermapbox\"}], \"scatterpolar\": [{\"marker\": {\"colorbar\": {\"outlinewidth\": 0, \"ticks\": \"\"}}, \"type\": \"scatterpolar\"}], \"scatterpolargl\": [{\"marker\": {\"colorbar\": {\"outlinewidth\": 0, \"ticks\": \"\"}}, \"type\": \"scatterpolargl\"}], \"scatterternary\": [{\"marker\": {\"colorbar\": {\"outlinewidth\": 0, \"ticks\": \"\"}}, \"type\": \"scatterternary\"}], \"surface\": [{\"colorbar\": {\"outlinewidth\": 0, \"ticks\": \"\"}, \"colorscale\": [[0.0, \"#0d0887\"], [0.1111111111111111, \"#46039f\"], [0.2222222222222222, \"#7201a8\"], [0.3333333333333333, \"#9c179e\"], [0.4444444444444444, \"#bd3786\"], [0.5555555555555556, \"#d8576b\"], [0.6666666666666666, \"#ed7953\"], [0.7777777777777778, \"#fb9f3a\"], [0.8888888888888888, \"#fdca26\"], [1.0, \"#f0f921\"]], \"type\": \"surface\"}], \"table\": [{\"cells\": {\"fill\": {\"color\": \"#EBF0F8\"}, \"line\": {\"color\": \"white\"}}, \"header\": {\"fill\": {\"color\": \"#C8D4E3\"}, \"line\": {\"color\": \"white\"}}, \"type\": \"table\"}]}, \"layout\": {\"annotationdefaults\": {\"arrowcolor\": \"#2a3f5f\", \"arrowhead\": 0, \"arrowwidth\": 1}, \"coloraxis\": {\"colorbar\": {\"outlinewidth\": 0, \"ticks\": \"\"}}, \"colorscale\": {\"diverging\": [[0, \"#8e0152\"], [0.1, \"#c51b7d\"], [0.2, \"#de77ae\"], [0.3, \"#f1b6da\"], [0.4, \"#fde0ef\"], [0.5, \"#f7f7f7\"], [0.6, \"#e6f5d0\"], [0.7, \"#b8e186\"], [0.8, \"#7fbc41\"], [0.9, \"#4d9221\"], [1, \"#276419\"]], \"sequential\": [[0.0, \"#0d0887\"], [0.1111111111111111, \"#46039f\"], [0.2222222222222222, \"#7201a8\"], [0.3333333333333333, \"#9c179e\"], [0.4444444444444444, \"#bd3786\"], [0.5555555555555556, \"#d8576b\"], [0.6666666666666666, \"#ed7953\"], [0.7777777777777778, \"#fb9f3a\"], [0.8888888888888888, \"#fdca26\"], [1.0, \"#f0f921\"]], \"sequentialminus\": [[0.0, \"#0d0887\"], [0.1111111111111111, \"#46039f\"], [0.2222222222222222, \"#7201a8\"], [0.3333333333333333, \"#9c179e\"], [0.4444444444444444, \"#bd3786\"], [0.5555555555555556, \"#d8576b\"], [0.6666666666666666, \"#ed7953\"], [0.7777777777777778, \"#fb9f3a\"], [0.8888888888888888, \"#fdca26\"], [1.0, \"#f0f921\"]]}, \"colorway\": [\"#636efa\", \"#EF553B\", \"#00cc96\", \"#ab63fa\", \"#FFA15A\", \"#19d3f3\", \"#FF6692\", \"#B6E880\", \"#FF97FF\", \"#FECB52\"], \"font\": {\"color\": \"#2a3f5f\"}, \"geo\": {\"bgcolor\": \"white\", \"lakecolor\": \"white\", \"landcolor\": \"#E5ECF6\", \"showlakes\": true, \"showland\": true, \"subunitcolor\": \"white\"}, \"hoverlabel\": {\"align\": \"left\"}, \"hovermode\": \"closest\", \"mapbox\": {\"style\": \"light\"}, \"paper_bgcolor\": \"white\", \"plot_bgcolor\": \"#E5ECF6\", \"polar\": {\"angularaxis\": {\"gridcolor\": \"white\", \"linecolor\": \"white\", \"ticks\": \"\"}, \"bgcolor\": \"#E5ECF6\", \"radialaxis\": {\"gridcolor\": \"white\", \"linecolor\": \"white\", \"ticks\": \"\"}}, \"scene\": {\"xaxis\": {\"backgroundcolor\": \"#E5ECF6\", \"gridcolor\": \"white\", \"gridwidth\": 2, \"linecolor\": \"white\", \"showbackground\": true, \"ticks\": \"\", \"zerolinecolor\": \"white\"}, \"yaxis\": {\"backgroundcolor\": \"#E5ECF6\", \"gridcolor\": \"white\", \"gridwidth\": 2, \"linecolor\": \"white\", \"showbackground\": true, \"ticks\": \"\", \"zerolinecolor\": \"white\"}, \"zaxis\": {\"backgroundcolor\": \"#E5ECF6\", \"gridcolor\": \"white\", \"gridwidth\": 2, \"linecolor\": \"white\", \"showbackground\": true, \"ticks\": \"\", \"zerolinecolor\": \"white\"}}, \"shapedefaults\": {\"line\": {\"color\": \"#2a3f5f\"}}, \"ternary\": {\"aaxis\": {\"gridcolor\": \"white\", \"linecolor\": \"white\", \"ticks\": \"\"}, \"baxis\": {\"gridcolor\": \"white\", \"linecolor\": \"white\", \"ticks\": \"\"}, \"bgcolor\": \"#E5ECF6\", \"caxis\": {\"gridcolor\": \"white\", \"linecolor\": \"white\", \"ticks\": \"\"}}, \"title\": {\"x\": 0.05}, \"xaxis\": {\"automargin\": true, \"gridcolor\": \"white\", \"linecolor\": \"white\", \"ticks\": \"\", \"title\": {\"standoff\": 15}, \"zerolinecolor\": \"white\", \"zerolinewidth\": 2}, \"yaxis\": {\"automargin\": true, \"gridcolor\": \"white\", \"linecolor\": \"white\", \"ticks\": \"\", \"title\": {\"standoff\": 15}, \"zerolinecolor\": \"white\", \"zerolinewidth\": 2}}}, \"width\": 1000, \"xaxis\": {\"anchor\": \"y\", \"domain\": [0.0, 0.45]}, \"xaxis10\": {\"anchor\": \"y10\", \"domain\": [0.55, 1.0]}, \"xaxis11\": {\"anchor\": \"y11\", \"domain\": [0.0, 0.45]}, \"xaxis12\": {\"anchor\": \"y12\", \"domain\": [0.55, 1.0]}, \"xaxis13\": {\"anchor\": \"y13\", \"domain\": [0.0, 0.45]}, \"xaxis14\": {\"anchor\": \"y14\", \"domain\": [0.55, 1.0]}, \"xaxis15\": {\"anchor\": \"y15\", \"domain\": [0.0, 0.45]}, \"xaxis16\": {\"anchor\": \"y16\", \"domain\": [0.55, 1.0]}, \"xaxis2\": {\"anchor\": \"y2\", \"domain\": [0.55, 1.0]}, \"xaxis3\": {\"anchor\": \"y3\", \"domain\": [0.0, 0.45]}, \"xaxis4\": {\"anchor\": \"y4\", \"domain\": [0.55, 1.0]}, \"xaxis5\": {\"anchor\": \"y5\", \"domain\": [0.0, 0.45]}, \"xaxis6\": {\"anchor\": \"y6\", \"domain\": [0.55, 1.0]}, \"xaxis7\": {\"anchor\": \"y7\", \"domain\": [0.0, 0.45]}, \"xaxis8\": {\"anchor\": \"y8\", \"domain\": [0.55, 1.0]}, \"xaxis9\": {\"anchor\": \"y9\", \"domain\": [0.0, 0.45]}, \"yaxis\": {\"anchor\": \"x\", \"domain\": [0.9296875, 1.0]}, \"yaxis10\": {\"anchor\": \"x10\", \"domain\": [0.3984375, 0.46875]}, \"yaxis11\": {\"anchor\": \"x11\", \"domain\": [0.265625, 0.3359375]}, \"yaxis12\": {\"anchor\": \"x12\", \"domain\": [0.265625, 0.3359375]}, \"yaxis13\": {\"anchor\": \"x13\", \"domain\": [0.1328125, 0.203125]}, \"yaxis14\": {\"anchor\": \"x14\", \"domain\": [0.1328125, 0.203125]}, \"yaxis15\": {\"anchor\": \"x15\", \"domain\": [0.0, 0.0703125]}, \"yaxis16\": {\"anchor\": \"x16\", \"domain\": [0.0, 0.0703125]}, \"yaxis2\": {\"anchor\": \"x2\", \"domain\": [0.9296875, 1.0]}, \"yaxis3\": {\"anchor\": \"x3\", \"domain\": [0.796875, 0.8671875]}, \"yaxis4\": {\"anchor\": \"x4\", \"domain\": [0.796875, 0.8671875]}, \"yaxis5\": {\"anchor\": \"x5\", \"domain\": [0.6640625, 0.734375]}, \"yaxis6\": {\"anchor\": \"x6\", \"domain\": [0.6640625, 0.734375]}, \"yaxis7\": {\"anchor\": \"x7\", \"domain\": [0.53125, 0.6015625]}, \"yaxis8\": {\"anchor\": \"x8\", \"domain\": [0.53125, 0.6015625]}, \"yaxis9\": {\"anchor\": \"x9\", \"domain\": [0.3984375, 0.46875]}},\n",
       "                        {\"responsive\": true}\n",
       "                    ).then(function(){\n",
       "                            \n",
       "var gd = document.getElementById('48efa64d-89d7-4610-a532-5c2acca46113');\n",
       "var x = new MutationObserver(function (mutations, observer) {{\n",
       "        var display = window.getComputedStyle(gd).display;\n",
       "        if (!display || display === 'none') {{\n",
       "            console.log([gd, 'removed!']);\n",
       "            Plotly.purge(gd);\n",
       "            observer.disconnect();\n",
       "        }}\n",
       "}});\n",
       "\n",
       "// Listen for the removal of the full notebook cells\n",
       "var notebookContainer = gd.closest('#notebook-container');\n",
       "if (notebookContainer) {{\n",
       "    x.observe(notebookContainer, {childList: true});\n",
       "}}\n",
       "\n",
       "// Listen for the clearing of the current output cell\n",
       "var outputEl = gd.closest('.output');\n",
       "if (outputEl) {{\n",
       "    x.observe(outputEl, {childList: true});\n",
       "}}\n",
       "\n",
       "                        })\n",
       "                };\n",
       "                });\n",
       "            </script>\n",
       "        </div>"
      ]
     },
     "metadata": {},
     "output_type": "display_data"
    }
   ],
   "source": [
    "fig = make_subplots(rows=8, cols=2, subplot_titles=tuple(names))\n",
    "\n",
    "for name_id, name in enumerate(names):\n",
    "    fig.add_trace(go.Scatter(x=np.arange(24), \n",
    "                             y=error_table[name_id], \n",
    "                             hovertext=info,\n",
    "                             mode='lines+markers', \n",
    "                             line=dict(color='forestgreen', width=2)\n",
    "                            ), \n",
    "                  row=1 + name_id // 2, col=1 + name_id % 2)\n",
    "    fig.add_trace(go.Scatter(x=np.arange(24), \n",
    "                             y=np.zeros(24), mode='lines', \n",
    "                             line=dict(color='royalblue', width=2)\n",
    "                            ), \n",
    "                  row=1 + name_id // 2, col=1 + name_id % 2)\n",
    "\n",
    "fig.update_layout(height=1600, width=1000, showlegend=False)\n",
    "fig.show()\n",
    "\n",
    "# Ниже описание графика"
   ]
  },
  {
   "cell_type": "markdown",
   "metadata": {},
   "source": [
    "**Описание графика:**\n",
    "\n",
    "Для каждого участника приведены проценты правильных действий в каждом случае. При наведении на точку графика можно увидеть ее описание: раунд (1, 2, 3), действие (Bid, Ask, Buy, Sell), вид облигаций (cp, zero_cp). Если значение равно -1, то это означает, что действий подобного типа участник не совершал. "
   ]
  }
 ],
 "metadata": {
  "kernelspec": {
   "display_name": "Python 3",
   "language": "python",
   "name": "python3"
  },
  "language_info": {
   "codemirror_mode": {
    "name": "ipython",
    "version": 3
   },
   "file_extension": ".py",
   "mimetype": "text/x-python",
   "name": "python",
   "nbconvert_exporter": "python",
   "pygments_lexer": "ipython3",
   "version": "3.7.3"
  }
 },
 "nbformat": 4,
 "nbformat_minor": 2
}
